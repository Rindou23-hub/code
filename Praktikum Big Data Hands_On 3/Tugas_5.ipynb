{
  "nbformat": 4,
  "nbformat_minor": 0,
  "metadata": {
    "colab": {
      "provenance": []
    },
    "kernelspec": {
      "name": "python3",
      "display_name": "Python 3"
    },
    "language_info": {
      "name": "python"
    }
  },
  "cells": [
    {
      "cell_type": "code",
      "execution_count": null,
      "metadata": {
        "id": "UerA7BMt1XK5"
      },
      "outputs": [],
      "source": [
        "!pip install -q kaggle"
      ]
    },
    {
      "cell_type": "code",
      "source": [
        "!cp kaggle.json ~/.kaggle"
      ],
      "metadata": {
        "id": "B01HvDWA1wB2"
      },
      "execution_count": null,
      "outputs": []
    },
    {
      "cell_type": "code",
      "source": [
        "!chmod 600 ~/.kaggle/kaggle.json"
      ],
      "metadata": {
        "id": "uvEFcICm2NNC"
      },
      "execution_count": null,
      "outputs": []
    },
    {
      "cell_type": "code",
      "source": [
        "!kaggle datasets download -d 'jpmiller/employee-attrition-for-healthcare'"
      ],
      "metadata": {
        "colab": {
          "base_uri": "https://localhost:8080/"
        },
        "id": "2jGzJX6z2i9W",
        "outputId": "649930a4-02cb-4875-ca27-9e696d51a4df"
      },
      "execution_count": 14,
      "outputs": [
        {
          "output_type": "stream",
          "name": "stdout",
          "text": [
            "Dataset URL: https://www.kaggle.com/datasets/jpmiller/employee-attrition-for-healthcare\n",
            "License(s): CC0-1.0\n",
            "employee-attrition-for-healthcare.zip: Skipping, found more recently modified local copy (use --force to force download)\n"
          ]
        }
      ]
    },
    {
      "cell_type": "code",
      "source": [
        "import zipfile"
      ],
      "metadata": {
        "id": "MYqgqxKe2jgb"
      },
      "execution_count": 15,
      "outputs": []
    },
    {
      "cell_type": "code",
      "source": [
        "dataset_zip = zipfile.ZipFile('employee-attrition-for-healthcare.zip', 'r')\n",
        "\n",
        "dataset_zip.extractall()\n",
        "\n",
        "dataset_zip.close()"
      ],
      "metadata": {
        "id": "__g6-PyK3rTR"
      },
      "execution_count": 16,
      "outputs": []
    },
    {
      "cell_type": "code",
      "source": [
        "from pyspark.sql import SparkSession\n",
        "\n",
        "# Membuat SparkSession\n",
        "spark = SparkSession.builder \\\n",
        "    .appName(\"WatsonHealthcareAnalysis\") \\\n",
        "    .getOrCreate()"
      ],
      "metadata": {
        "id": "qFYKPTIO37_A"
      },
      "execution_count": 17,
      "outputs": []
    },
    {
      "cell_type": "code",
      "source": [
        "# Membaca CSV ke dalam DataFrame Spark\n",
        "df = spark.read.csv(\"/content/watson_healthcare_modified.csv\", header=True, inferSchema=True)\n",
        "\n",
        "# Melihat struktur data\n",
        "df.printSchema()\n",
        "df.show(5)"
      ],
      "metadata": {
        "colab": {
          "base_uri": "https://localhost:8080/"
        },
        "id": "eUANJ4qm4Bm1",
        "outputId": "a0698476-75ac-459d-a5f9-b93a5a257cdb"
      },
      "execution_count": 18,
      "outputs": [
        {
          "output_type": "stream",
          "name": "stdout",
          "text": [
            "root\n",
            " |-- EmployeeID: integer (nullable = true)\n",
            " |-- Age: integer (nullable = true)\n",
            " |-- Attrition: string (nullable = true)\n",
            " |-- BusinessTravel: string (nullable = true)\n",
            " |-- DailyRate: integer (nullable = true)\n",
            " |-- Department: string (nullable = true)\n",
            " |-- DistanceFromHome: integer (nullable = true)\n",
            " |-- Education: integer (nullable = true)\n",
            " |-- EducationField: string (nullable = true)\n",
            " |-- EmployeeCount: integer (nullable = true)\n",
            " |-- EnvironmentSatisfaction: integer (nullable = true)\n",
            " |-- Gender: string (nullable = true)\n",
            " |-- HourlyRate: integer (nullable = true)\n",
            " |-- JobInvolvement: integer (nullable = true)\n",
            " |-- JobLevel: integer (nullable = true)\n",
            " |-- JobRole: string (nullable = true)\n",
            " |-- JobSatisfaction: integer (nullable = true)\n",
            " |-- MaritalStatus: string (nullable = true)\n",
            " |-- MonthlyIncome: integer (nullable = true)\n",
            " |-- MonthlyRate: integer (nullable = true)\n",
            " |-- NumCompaniesWorked: integer (nullable = true)\n",
            " |-- Over18: string (nullable = true)\n",
            " |-- OverTime: string (nullable = true)\n",
            " |-- PercentSalaryHike: integer (nullable = true)\n",
            " |-- PerformanceRating: integer (nullable = true)\n",
            " |-- RelationshipSatisfaction: integer (nullable = true)\n",
            " |-- StandardHours: integer (nullable = true)\n",
            " |-- Shift: integer (nullable = true)\n",
            " |-- TotalWorkingYears: integer (nullable = true)\n",
            " |-- TrainingTimesLastYear: integer (nullable = true)\n",
            " |-- WorkLifeBalance: integer (nullable = true)\n",
            " |-- YearsAtCompany: integer (nullable = true)\n",
            " |-- YearsInCurrentRole: integer (nullable = true)\n",
            " |-- YearsSinceLastPromotion: integer (nullable = true)\n",
            " |-- YearsWithCurrManager: integer (nullable = true)\n",
            "\n",
            "+----------+---+---------+-----------------+---------+----------+----------------+---------+--------------+-------------+-----------------------+------+----------+--------------+--------+-------+---------------+-------------+-------------+-----------+------------------+------+--------+-----------------+-----------------+------------------------+-------------+-----+-----------------+---------------------+---------------+--------------+------------------+-----------------------+--------------------+\n",
            "|EmployeeID|Age|Attrition|   BusinessTravel|DailyRate|Department|DistanceFromHome|Education|EducationField|EmployeeCount|EnvironmentSatisfaction|Gender|HourlyRate|JobInvolvement|JobLevel|JobRole|JobSatisfaction|MaritalStatus|MonthlyIncome|MonthlyRate|NumCompaniesWorked|Over18|OverTime|PercentSalaryHike|PerformanceRating|RelationshipSatisfaction|StandardHours|Shift|TotalWorkingYears|TrainingTimesLastYear|WorkLifeBalance|YearsAtCompany|YearsInCurrentRole|YearsSinceLastPromotion|YearsWithCurrManager|\n",
            "+----------+---+---------+-----------------+---------+----------+----------------+---------+--------------+-------------+-----------------------+------+----------+--------------+--------+-------+---------------+-------------+-------------+-----------+------------------+------+--------+-----------------+-----------------+------------------------+-------------+-----+-----------------+---------------------+---------------+--------------+------------------+-----------------------+--------------------+\n",
            "|   1313919| 41|       No|    Travel_Rarely|     1102|Cardiology|               1|        2| Life Sciences|            1|                      2|Female|        94|             3|       2|  Nurse|              4|       Single|         5993|      19479|                 8|     Y|     Yes|               11|                3|                       1|           80|    0|                8|                    0|              1|             6|                 4|                      0|                   5|\n",
            "|   1200302| 49|       No|Travel_Frequently|      279| Maternity|               8|        1| Life Sciences|            1|                      3|  Male|        61|             2|       2|  Other|              2|      Married|         5130|      24907|                 1|     Y|      No|               23|                4|                       4|           80|    1|               10|                    3|              3|            10|                 7|                      1|                   7|\n",
            "|   1060315| 37|      Yes|    Travel_Rarely|     1373| Maternity|               2|        2|         Other|            1|                      4|  Male|        92|             2|       1|  Nurse|              3|       Single|         2090|       2396|                 6|     Y|     Yes|               15|                3|                       2|           80|    0|                7|                    3|              3|             0|                 0|                      0|                   0|\n",
            "|   1272912| 33|       No|Travel_Frequently|     1392| Maternity|               3|        4| Life Sciences|            1|                      4|Female|        56|             3|       1|  Other|              3|      Married|         2909|      23159|                 1|     Y|     Yes|               11|                3|                       3|           80|    0|                8|                    3|              3|             8|                 7|                      3|                   0|\n",
            "|   1414939| 27|       No|    Travel_Rarely|      591| Maternity|               2|        1|       Medical|            1|                      1|  Male|        40|             3|       1|  Nurse|              2|      Married|         3468|      16632|                 9|     Y|      No|               12|                3|                       4|           80|    1|                6|                    3|              3|             2|                 2|                      2|                   2|\n",
            "+----------+---+---------+-----------------+---------+----------+----------------+---------+--------------+-------------+-----------------------+------+----------+--------------+--------+-------+---------------+-------------+-------------+-----------+------------------+------+--------+-----------------+-----------------+------------------------+-------------+-----+-----------------+---------------------+---------------+--------------+------------------+-----------------------+--------------------+\n",
            "only showing top 5 rows\n",
            "\n"
          ]
        }
      ]
    },
    {
      "cell_type": "code",
      "source": [
        "print(\"Jumlah baris:\", df.count())\n",
        "print(\"Jumlah kolom:\", len(df.columns))\n",
        "\n",
        "# Statistik deskriptif\n",
        "df.describe().show()\n",
        "\n",
        "# Menampilkan kolom tertentu (yang valid)\n",
        "df.select(\"EmployeeID\", \"Age\", \"Department\").show(10)\n",
        "\n",
        "# Filter karyawan dengan umur > 40\n",
        "df.filter(df[\"Age\"] > 40).show(10)\n",
        "\n",
        "# Agregasi: jumlah karyawan per Department\n",
        "df.groupBy(\"Department\").count().show()"
      ],
      "metadata": {
        "colab": {
          "base_uri": "https://localhost:8080/"
        },
        "id": "KcxQ6Ldz4Ij8",
        "outputId": "8d324173-6246-490f-927a-d4f0ee1a6d0d"
      },
      "execution_count": 21,
      "outputs": [
        {
          "output_type": "stream",
          "name": "stdout",
          "text": [
            "Jumlah baris: 1676\n",
            "Jumlah kolom: 35\n",
            "+-------+------------------+------------------+---------+--------------+------------------+----------+-----------------+------------------+----------------+-------------+-----------------------+------+-----------------+------------------+------------------+---------+------------------+-------------+-----------------+-----------------+------------------+------+--------+------------------+------------------+------------------------+-------------+------------------+-----------------+---------------------+------------------+-----------------+------------------+-----------------------+--------------------+\n",
            "|summary|        EmployeeID|               Age|Attrition|BusinessTravel|         DailyRate|Department| DistanceFromHome|         Education|  EducationField|EmployeeCount|EnvironmentSatisfaction|Gender|       HourlyRate|    JobInvolvement|          JobLevel|  JobRole|   JobSatisfaction|MaritalStatus|    MonthlyIncome|      MonthlyRate|NumCompaniesWorked|Over18|OverTime| PercentSalaryHike| PerformanceRating|RelationshipSatisfaction|StandardHours|             Shift|TotalWorkingYears|TrainingTimesLastYear|   WorkLifeBalance|   YearsAtCompany|YearsInCurrentRole|YearsSinceLastPromotion|YearsWithCurrManager|\n",
            "+-------+------------------+------------------+---------+--------------+------------------+----------+-----------------+------------------+----------------+-------------+-----------------------+------+-----------------+------------------+------------------+---------+------------------+-------------+-----------------+-----------------+------------------+------+--------+------------------+------------------+------------------------+-------------+------------------+-----------------+---------------------+------------------+-----------------+------------------+-----------------------+--------------------+\n",
            "|  count|              1676|              1676|     1676|          1676|              1676|      1676|             1676|              1676|            1676|         1676|                   1676|  1676|             1676|              1676|              1676|     1676|              1676|         1676|             1676|             1676|              1676|  1676|    1676|              1676|              1676|                    1676|         1676|              1676|             1676|                 1676|              1676|             1676|              1676|                   1676|                1676|\n",
            "|   mean|1456795.7207637231|36.866348448687354|     NULL|          NULL| 800.5578758949881|      NULL|9.221957040572793|2.9075178997613365|            NULL|          1.0|      2.714797136038186|  NULL|65.47016706443914|2.7249403341288785|2.0668257756563246|     NULL|2.7386634844868736|         NULL|6516.512529832936|14287.01968973747| 2.662291169451074|  NULL|    NULL| 15.19689737470167|3.1503579952267304|      2.7183770883054894|         80.0|0.8060859188544153|11.33890214797136|    2.805489260143198|2.7661097852028638|7.033412887828162|  4.26491646778043|      2.200477326968974|   4.135441527446301|\n",
            "| stddev|248748.62438255013| 9.129125509525002|     NULL|          NULL|401.59443816838905|      NULL|8.158117721920949|1.0258350146545725|            NULL|          0.0|      1.097534014983373|  NULL|20.20757222271522|0.7141208953351504| 1.113422989750691|     NULL|1.1040048145593835|         NULL|4728.456618272787|7138.857783228654| 2.477704378293447|  NULL|    NULL|3.6465501067998565|0.3575286526063966|      1.0781615047184856|          0.0|0.8555273920709324|7.834996255033527|   1.2884306081909855|0.7023691404329718|6.098990808531865| 3.627455593466369|     3.2295870646018856|  3.5596624670836383|\n",
            "|    min|           1025177|                18|       No|    Non-Travel|               102|Cardiology|                1|                 1| Human Resources|            1|                      1|Female|               30|                 1|                 1|    Admin|                 1|     Divorced|             1009|             2094|                 0|     Y|      No|                11|                 3|                       1|           80|                 0|                0|                    0|                 1|                0|                 0|                      0|                   0|\n",
            "|    max|           1886378|                60|      Yes| Travel_Rarely|              1499| Neurology|               29|                 5|Technical Degree|            1|                      4|  Male|              100|                 4|                 5|Therapist|                 4|       Single|            19999|            26999|                 9|     Y|     Yes|                25|                 4|                       4|           80|                 3|               40|                    6|                 4|               40|                18|                     15|                  17|\n",
            "+-------+------------------+------------------+---------+--------------+------------------+----------+-----------------+------------------+----------------+-------------+-----------------------+------+-----------------+------------------+------------------+---------+------------------+-------------+-----------------+-----------------+------------------+------+--------+------------------+------------------+------------------------+-------------+------------------+-----------------+---------------------+------------------+-----------------+------------------+-----------------------+--------------------+\n",
            "\n",
            "+----------+---+----------+\n",
            "|EmployeeID|Age|Department|\n",
            "+----------+---+----------+\n",
            "|   1313919| 41|Cardiology|\n",
            "|   1200302| 49| Maternity|\n",
            "|   1060315| 37| Maternity|\n",
            "|   1272912| 33| Maternity|\n",
            "|   1414939| 27| Maternity|\n",
            "|   1633361| 32| Maternity|\n",
            "|   1329390| 59| Maternity|\n",
            "|   1699288| 30| Maternity|\n",
            "|   1469740| 38| Maternity|\n",
            "|   1101291| 36| Maternity|\n",
            "+----------+---+----------+\n",
            "only showing top 10 rows\n",
            "\n",
            "+----------+---+---------+-----------------+---------+----------+----------------+---------+--------------+-------------+-----------------------+------+----------+--------------+--------+--------------+---------------+-------------+-------------+-----------+------------------+------+--------+-----------------+-----------------+------------------------+-------------+-----+-----------------+---------------------+---------------+--------------+------------------+-----------------------+--------------------+\n",
            "|EmployeeID|Age|Attrition|   BusinessTravel|DailyRate|Department|DistanceFromHome|Education|EducationField|EmployeeCount|EnvironmentSatisfaction|Gender|HourlyRate|JobInvolvement|JobLevel|       JobRole|JobSatisfaction|MaritalStatus|MonthlyIncome|MonthlyRate|NumCompaniesWorked|Over18|OverTime|PercentSalaryHike|PerformanceRating|RelationshipSatisfaction|StandardHours|Shift|TotalWorkingYears|TrainingTimesLastYear|WorkLifeBalance|YearsAtCompany|YearsInCurrentRole|YearsSinceLastPromotion|YearsWithCurrManager|\n",
            "+----------+---+---------+-----------------+---------+----------+----------------+---------+--------------+-------------+-----------------------+------+----------+--------------+--------+--------------+---------------+-------------+-------------+-----------+------------------+------+--------+-----------------+-----------------+------------------------+-------------+-----+-----------------+---------------------+---------------+--------------+------------------+-----------------------+--------------------+\n",
            "|   1313919| 41|       No|    Travel_Rarely|     1102|Cardiology|               1|        2| Life Sciences|            1|                      2|Female|        94|             3|       2|         Nurse|              4|       Single|         5993|      19479|                 8|     Y|     Yes|               11|                3|                       1|           80|    0|                8|                    0|              1|             6|                 4|                      0|                   5|\n",
            "|   1200302| 49|       No|Travel_Frequently|      279| Maternity|               8|        1| Life Sciences|            1|                      3|  Male|        61|             2|       2|         Other|              2|      Married|         5130|      24907|                 1|     Y|      No|               23|                4|                       4|           80|    1|               10|                    3|              3|            10|                 7|                      1|                   7|\n",
            "|   1329390| 59|       No|    Travel_Rarely|     1324| Maternity|               3|        3|       Medical|            1|                      3|Female|        81|             4|       1|         Nurse|              1|      Married|         2670|       9964|                 4|     Y|     Yes|               20|                4|                       1|           80|    3|               12|                    3|              2|             1|                 0|                      0|                   0|\n",
            "|   1599218| 53|       No|    Travel_Rarely|     1219|Cardiology|               2|        4| Life Sciences|            1|                      1|Female|        78|             2|       4|Administrative|              4|      Married|        15427|      22021|                 2|     Y|      No|               16|                3|                       3|           80|    0|               31|                    3|              3|            25|                 8|                      3|                   7|\n",
            "|   1142160| 53|       No|    Travel_Rarely|     1282| Neurology|               5|        3|         Other|            1|                      3|Female|        58|             3|       5|         Other|              3|     Divorced|        19094|      10735|                 4|     Y|      No|               11|                3|                       4|           80|    1|               26|                    3|              2|            14|                13|                      4|                   8|\n",
            "|   1789756| 42|       No|    Travel_Rarely|      691|Cardiology|               8|        4|     Marketing|            1|                      3|  Male|        48|             3|       2|         Nurse|              2|      Married|         6825|      21173|                 0|     Y|      No|               11|                3|                       4|           80|    1|               10|                    2|              3|             9|                 7|                      4|                   2|\n",
            "|   1126009| 44|       No|    Travel_Rarely|      477| Maternity|               7|        4|       Medical|            1|                      1|Female|        42|             2|       3|         Nurse|              4|      Married|        10248|       2094|                 3|     Y|      No|               14|                3|                       4|           80|    1|               24|                    4|              3|            22|                 6|                      5|                  17|\n",
            "|   1552176| 46|       No|    Travel_Rarely|      705|Cardiology|               2|        4|     Marketing|            1|                      2|Female|        83|             3|       5|Administrative|              1|       Single|        18947|      22822|                 3|     Y|      No|               12|                3|                       4|           80|    0|               22|                    2|              2|             2|                 2|                      2|                   1|\n",
            "|   1397325| 44|       No|    Travel_Rarely|     1459| Maternity|              10|        4|         Other|            1|                      4|  Male|        41|             3|       2|         Nurse|              4|      Married|         6465|      19121|                 2|     Y|     Yes|               13|                3|                       4|           80|    0|                9|                    5|              4|             4|                 2|                      1|                   3|\n",
            "|   1650304| 43|       No|    Travel_Rarely|     1273| Maternity|               2|        2|       Medical|            1|                      4|Female|        72|             4|       1|         Other|              3|     Divorced|         2645|      21923|                 1|     Y|      No|               12|                3|                       4|           80|    2|                6|                    3|              2|             5|                 3|                      1|                   4|\n",
            "+----------+---+---------+-----------------+---------+----------+----------------+---------+--------------+-------------+-----------------------+------+----------+--------------+--------+--------------+---------------+-------------+-------------+-----------+------------------+------+--------+-----------------+-----------------+------------------------+-------------+-----+-----------------+---------------------+---------------+--------------+------------------+-----------------------+--------------------+\n",
            "only showing top 10 rows\n",
            "\n",
            "+----------+-----+\n",
            "|Department|count|\n",
            "+----------+-----+\n",
            "| Neurology|  349|\n",
            "|Cardiology|  531|\n",
            "| Maternity|  796|\n",
            "+----------+-----+\n",
            "\n"
          ]
        }
      ]
    },
    {
      "cell_type": "code",
      "source": [
        "from pyspark.sql.functions import when\n",
        "\n",
        "df = df.withColumn(\n",
        "    \"AgeCategory\",\n",
        "    when(df.Age < 18, \"Child\")\n",
        "    .when((df.Age >= 18) & (df.Age < 60), \"Adult\")\n",
        "    .otherwise(\"Senior\")\n",
        ")\n",
        "\n",
        "df.select(\"EmployeeID\", \"Age\", \"AgeCategory\").show(10)"
      ],
      "metadata": {
        "colab": {
          "base_uri": "https://localhost:8080/"
        },
        "id": "cNgwBXLy4Pfa",
        "outputId": "0ef9b519-d9b3-49fc-aa73-0b412e0375a0"
      },
      "execution_count": 23,
      "outputs": [
        {
          "output_type": "stream",
          "name": "stdout",
          "text": [
            "+----------+---+-----------+\n",
            "|EmployeeID|Age|AgeCategory|\n",
            "+----------+---+-----------+\n",
            "|   1313919| 41|      Adult|\n",
            "|   1200302| 49|      Adult|\n",
            "|   1060315| 37|      Adult|\n",
            "|   1272912| 33|      Adult|\n",
            "|   1414939| 27|      Adult|\n",
            "|   1633361| 32|      Adult|\n",
            "|   1329390| 59|      Adult|\n",
            "|   1699288| 30|      Adult|\n",
            "|   1469740| 38|      Adult|\n",
            "|   1101291| 36|      Adult|\n",
            "+----------+---+-----------+\n",
            "only showing top 10 rows\n",
            "\n"
          ]
        }
      ]
    },
    {
      "cell_type": "code",
      "source": [
        "df.write.csv(\"/content/output_healthcare\", header=True, mode=\"overwrite\")"
      ],
      "metadata": {
        "id": "-v9KjDN54w53"
      },
      "execution_count": 24,
      "outputs": []
    }
  ]
}