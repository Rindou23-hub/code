{
  "nbformat": 4,
  "nbformat_minor": 0,
  "metadata": {
    "colab": {
      "provenance": []
    },
    "kernelspec": {
      "name": "python3",
      "display_name": "Python 3"
    },
    "language_info": {
      "name": "python"
    }
  },
  "cells": [
    {
      "cell_type": "code",
      "execution_count": 2,
      "metadata": {
        "colab": {
          "base_uri": "https://localhost:8080/"
        },
        "cellView": "form",
        "id": "Uj2oaErk1vw4",
        "outputId": "f4ea2e8d-1937-49db-ebaf-9b704fdbb620"
      },
      "outputs": [
        {
          "output_type": "stream",
          "name": "stdout",
          "text": [
            "Elemen 10 ditambahkan ke stack.\n",
            "Elemen 20 ditambahkan ke stack.\n",
            "Elemen 30 ditambahkan ke stack.\n",
            "Jumlah elemen saat ini: [10, 20, 30]\n"
          ]
        }
      ],
      "source": [
        "# @title push()\n",
        "class Stack:\n",
        "    def __init__(self):\n",
        "        self.stack = []\n",
        "\n",
        "    def push(self, item):\n",
        "        self.stack.append(item)\n",
        "        print(f\"Elemen {item} ditambahkan ke stack.\")\n",
        "\n",
        "    def display(self):\n",
        "        if not self.stack:\n",
        "            print(\"Stack kosong!\")\n",
        "        else:\n",
        "            print(\"Jumlah elemen saat ini:\", self.stack)\n",
        "\n",
        "# Contoh penggunaan\n",
        "stack = Stack()\n",
        "stack.push(10)  # Menambahkan elemen 10\n",
        "stack.push(20)  # Menambahkan elemen 20\n",
        "stack.push(30)  # Menambahkan elemen 30\n",
        "stack.display()  # Output: Stack saat ini: [10, 20, 30]\n"
      ]
    },
    {
      "cell_type": "code",
      "source": [
        "# @title pop()\n",
        "class Stack:\n",
        "    def __init__(self):\n",
        "        self.stack = []\n",
        "\n",
        "    def push(self, item):\n",
        "        self.stack.append(item)\n",
        "        print(f\"Elemen {item} ditambahkan ke stack.\")\n",
        "\n",
        "    def pop(self):\n",
        "        if self.is_empty():\n",
        "            return \"Stack kosong! Tidak bisa melakukan pop.\"\n",
        "        removed_item = self.stack.pop()\n",
        "        print(f\"Elemen {removed_item} dihapus dari stack.\")\n",
        "        return removed_item\n",
        "\n",
        "    def is_empty(self):\n",
        "        return len(self.stack) == 0\n",
        "\n",
        "    def display(self):\n",
        "        if self.is_empty():\n",
        "            print(\"Stack kosong!\")\n",
        "        else:\n",
        "            print(\"Stack saat ini:\", self.stack)\n",
        "\n",
        "# Contoh penggunaan\n",
        "stack = Stack()\n",
        "stack.push(10)\n",
        "stack.push(20)\n",
        "stack.push(30)\n",
        "stack.display()  # Output: Stack saat ini: [10, 20, 30]\n",
        "\n",
        "print(\"Pop:\", stack.pop())  # Menghapus elemen 30\n",
        "stack.display()  # Output: Stack saat ini: [10, 20]\n"
      ],
      "metadata": {
        "colab": {
          "base_uri": "https://localhost:8080/"
        },
        "cellView": "form",
        "id": "Qz1TCFW419D-",
        "outputId": "caaebb80-cb19-47cb-ef1f-8f62cce102ac"
      },
      "execution_count": 7,
      "outputs": [
        {
          "output_type": "stream",
          "name": "stdout",
          "text": [
            "Elemen 10 ditambahkan ke stack.\n",
            "Elemen 20 ditambahkan ke stack.\n",
            "Elemen 30 ditambahkan ke stack.\n",
            "Stack saat ini: [10, 20, 30]\n",
            "Elemen 30 dihapus dari stack.\n",
            "Pop: 30\n",
            "Stack saat ini: [10, 20]\n"
          ]
        }
      ]
    },
    {
      "cell_type": "code",
      "source": [
        "# @title peek()\n",
        "class Stack:\n",
        "    def __init__(self):\n",
        "        self.stack = []\n",
        "\n",
        "    def push(self, item):\n",
        "        self.stack.append(item)\n",
        "        print(f\"Elemen {item} ditambahkan ke stack.\")\n",
        "\n",
        "    def peek(self):\n",
        "        if self.is_empty():\n",
        "            return \"Stack kosong!\"\n",
        "        return self.stack[-1]\n",
        "\n",
        "    def is_empty(self):\n",
        "        return len(self.stack) == 0\n",
        "\n",
        "    def display(self):\n",
        "        if self.is_empty():\n",
        "            print(\"Stack kosong!\")\n",
        "        else:\n",
        "            print(\"Stack saat ini:\", self.stack)\n",
        "\n",
        "# Contoh penggunaan\n",
        "stack = Stack()\n",
        "stack.push(10)\n",
        "stack.push(20)\n",
        "stack.push(30)\n",
        "\n",
        "stack.display()  # Output: Stack saat ini: [10, 20, 30]\n",
        "\n",
        "print(\"Peek:\", stack.peek())  # Output: 30 (elemen teratas)\n",
        "stack.display()  # Stack tetap sama: [10, 20, 30]\n"
      ],
      "metadata": {
        "colab": {
          "base_uri": "https://localhost:8080/"
        },
        "cellView": "form",
        "id": "zHZP5PLc3bsc",
        "outputId": "57672f5c-ba11-49e7-f961-1f21970786ef"
      },
      "execution_count": 8,
      "outputs": [
        {
          "output_type": "stream",
          "name": "stdout",
          "text": [
            "Elemen 10 ditambahkan ke stack.\n",
            "Elemen 20 ditambahkan ke stack.\n",
            "Elemen 30 ditambahkan ke stack.\n",
            "Stack saat ini: [10, 20, 30]\n",
            "Peek: 30\n",
            "Stack saat ini: [10, 20, 30]\n"
          ]
        }
      ]
    },
    {
      "cell_type": "code",
      "source": [
        "# @title Latihan 1\n",
        "class Calculator:\n",
        "    def __init__(self):\n",
        "        self.stack = [3]  # Simpan angka awal (03 dianggap sebagai 3)\n",
        "\n",
        "    def add(self, value):\n",
        "        new_value = self.stack[-1] + value\n",
        "        self.stack.append(new_value)\n",
        "        print(f\"Hasil + {value}: {new_value}\")\n",
        "\n",
        "    def subtract(self, value):\n",
        "        new_value = self.stack[-1] - value\n",
        "        self.stack.append(new_value)\n",
        "        print(f\"Hasil - {value}: {new_value}\")\n",
        "\n",
        "    def multiply(self, value):\n",
        "        new_value = self.stack[-1] * value\n",
        "        self.stack.append(new_value)\n",
        "        print(f\"Hasil x {value}: {new_value}\")\n",
        "\n",
        "    def undo(self):\n",
        "        if len(self.stack) > 1:\n",
        "            removed_value = self.stack.pop()\n",
        "            print(f\"Undo: Kembali ke {self.stack[-1]}\")\n",
        "        else:\n",
        "            print(\"Tidak bisa undo, sudah di angka awal!\")\n",
        "\n",
        "    def display(self):\n",
        "        print(f\"Angka saat ini: {self.stack[-1]}\")\n",
        "\n",
        "# Contoh Penggunaan\n",
        "calc = Calculator()\n",
        "calc.display()  # Angka awal: 3\n",
        "\n",
        "calc.add(5)      # 3 + 5 = 8\n",
        "calc.multiply(2) # 8 * 2 = 16\n",
        "calc.subtract(4) # 16 - 4 = 12\n",
        "calc.display()   # Angka saat ini: 12\n",
        "\n",
        "print(\"\\n=== Undo ===\")\n",
        "calc.undo()      # Undo: kembali ke 16\n",
        "calc.display()   # Angka saat ini: 16\n",
        "\n",
        "calc.undo()      # Undo: kembali ke 8\n",
        "calc.display()   # Angka saat ini: 8\n"
      ],
      "metadata": {
        "colab": {
          "base_uri": "https://localhost:8080/"
        },
        "cellView": "form",
        "id": "rJO9ryeI8eAJ",
        "outputId": "44741fa2-3abf-463b-c8ed-c786fe4f574f"
      },
      "execution_count": 14,
      "outputs": [
        {
          "output_type": "stream",
          "name": "stdout",
          "text": [
            "Angka saat ini: 3\n",
            "Hasil + 5: 8\n",
            "Hasil x 2: 16\n",
            "Hasil - 4: 12\n",
            "Angka saat ini: 12\n",
            "\n",
            "=== Undo ===\n",
            "Undo: Kembali ke 16\n",
            "Angka saat ini: 16\n",
            "Undo: Kembali ke 8\n",
            "Angka saat ini: 8\n"
          ]
        }
      ]
    },
    {
      "cell_type": "code",
      "source": [
        "# @title Latihan 2\n",
        "from collections import deque\n",
        "\n",
        "class MobileAppNavigationHistory:\n",
        "    def __init__(self):\n",
        "        self.app = deque()\n",
        "\n",
        "    def visit_feature(self, nama_fitur):\n",
        "        self.app.append(nama_fitur)\n",
        "        print(f\"Mengunjungi aplikasi: {nama_fitur}\")\n",
        "\n",
        "    def back(self):\n",
        "        if len(self.app) > 1:\n",
        "            removed_feature = self.app.pop()\n",
        "            print(f\"Kembali ke: {self.app[-1]}\")\n",
        "        else:\n",
        "            print(\"Tidak bisa kembali, sudah di fitur pertama!\")\n",
        "\n",
        "bulan = \"A\" # Huruf pertama dari bulan Agustus\n",
        "npm_terakhir = \"03\" # Digit terakhir NPM 2410506003\n",
        "\n",
        "App1 = f\"{bulan}{npm_terakhir}_WhatsApp\"\n",
        "App2 = f\"{bulan}{npm_terakhir}_Instagram\"\n",
        "App3 = f\"{bulan}{npm_terakhir}_Youtube\"\n",
        "\n",
        "\n",
        "history = MobileAppNavigationHistory()\n",
        "history.visit_feature(App1)\n",
        "history.visit_feature(App2)\n",
        "history.visit_feature(App3)\n",
        "\n",
        "print()\n",
        "\n",
        "history.back()\n",
        "history.back()\n"
      ],
      "metadata": {
        "colab": {
          "base_uri": "https://localhost:8080/"
        },
        "cellView": "form",
        "id": "l2phVgjJDCPD",
        "outputId": "2d2b4925-9826-41ea-a07b-e392245c4bbf"
      },
      "execution_count": 4,
      "outputs": [
        {
          "output_type": "stream",
          "name": "stdout",
          "text": [
            "Mengunjungi aplikasi: A03_WhatsApp\n",
            "Mengunjungi aplikasi: A03_Instagram\n",
            "Mengunjungi aplikasi: A03_Youtube\n",
            "\n",
            "Kembali ke: A03_Instagram\n",
            "Kembali ke: A03_WhatsApp\n"
          ]
        }
      ]
    },
    {
      "cell_type": "code",
      "source": [
        "# @title Latihan 3\n",
        "from queue import LifoQueue\n",
        "\n",
        "class EmailDraftSystem:\n",
        "    def __init__(self):\n",
        "        self.draf = LifoQueue()\n",
        "\n",
        "    def save_draft(self, subjek, isi):\n",
        "        self.draf.put((subjek, isi))\n",
        "        print(f\"Draft email disimpan: {subjek}\")\n",
        "\n",
        "    def view_last_draft(self):\n",
        "        if not self.draf.empty():\n",
        "            subjek, isi = self.draf.get()\n",
        "            print(f\"\\nLihat draft terakhir:\\nSubjek email: {subjek}\\nIsi email: {isi}\")\n",
        "        else:\n",
        "            print(\"\\nDraft email kosong.\")\n",
        "\n",
        "nama = \"KA\"\n",
        "npm_terakhir = \"03\"\n",
        "\n",
        "subject1 = f\"{nama}{npm_terakhir}_Tugas\"\n",
        "subject2 = f\"{nama}{npm_terakhir}_Praktikum\"\n",
        "subject3 = f\"{nama}{npm_terakhir}_Laporan\"\n",
        "\n",
        "content1 = \"Isi draft email tugas.\"\n",
        "content2 = \"Isi draft email praktikum.\"\n",
        "content3 = \"Isi draft email laporan.\"\n",
        "\n",
        "email_system = EmailDraftSystem()\n",
        "email_system.save_draft(subject1, content1)\n",
        "email_system.save_draft(subject2, content2)\n",
        "email_system.save_draft(subject3, content3)\n",
        "\n",
        "email_system.view_last_draft()\n"
      ],
      "metadata": {
        "colab": {
          "base_uri": "https://localhost:8080/"
        },
        "cellView": "form",
        "id": "PMIK7cZuZSZP",
        "outputId": "6a9f9bab-19c7-49bd-f238-698a0f70af76"
      },
      "execution_count": 3,
      "outputs": [
        {
          "output_type": "stream",
          "name": "stdout",
          "text": [
            "Draft email disimpan: KA03_Tugas\n",
            "Draft email disimpan: KA03_Proposal\n",
            "Draft email disimpan: KA03_Laporan\n",
            "\n",
            "Lihat draft terakhir:\n",
            "Subjek email: KA03_Laporan\n",
            "Isi email: Isi draft email laporan.\n"
          ]
        }
      ]
    },
    {
      "cell_type": "code",
      "source": [
        "# @title Latihan 4\n",
        "class TicketStack:\n",
        "    def __init__(self):\n",
        "        self.stack = []\n",
        "\n",
        "    def buy_ticket(self, nama_customer, nama_film):\n",
        "        self.stack.append((nama_customer, nama_film))\n",
        "        print(f\"{nama_customer} membeli tiket untuk film: {nama_film}\")\n",
        "\n",
        "    def process_ticket(self):\n",
        "        if self.stack:\n",
        "            customer, movie = self.stack.pop()\n",
        "            print(f\"\\nTiket diproses: {customer} untuk film {movie}\")\n",
        "        else:\n",
        "            print(\"\\nTidak ada antrean tiket untuk diproses.\")\n",
        "\n",
        "inisial_bulan_lahir = \"A\"\n",
        "npm_terakhir = \"03\"\n",
        "\n",
        "nama_film1 = f\"{inisial_bulan_lahir}{npm_terakhir}_Pengabdi Setan\"\n",
        "nama_film2 = f\"{inisial_bulan_lahir}{npm_terakhir}_Dilan 1990\"\n",
        "nama_film3 = f\"{inisial_bulan_lahir}{npm_terakhir}_Dua Garis Biru\"\n",
        "\n",
        "ticket_system = TicketStack()\n",
        "ticket_system.buy_ticket(\"Karezu\", nama_film1)\n",
        "ticket_system.buy_ticket(\"Musa\", nama_film2)\n",
        "ticket_system.buy_ticket(\"Kartika\", nama_film3)\n",
        "\n",
        "ticket_system.process_ticket()\n",
        "ticket_system.process_ticket()\n",
        "ticket_system.process_ticket()\n"
      ],
      "metadata": {
        "colab": {
          "base_uri": "https://localhost:8080/"
        },
        "cellView": "form",
        "id": "dqe1YZlHlVpx",
        "outputId": "2228690b-608d-4722-fde9-caaba0fcefa3"
      },
      "execution_count": 5,
      "outputs": [
        {
          "output_type": "stream",
          "name": "stdout",
          "text": [
            "Karezu membeli tiket untuk film: A03_Pengabdi Setan\n",
            "Musa membeli tiket untuk film: A03_Dilan 1990\n",
            "Kartika membeli tiket untuk film: A03_Dua Garis Biru\n",
            "\n",
            "Tiket diproses: Kartika untuk film A03_Dua Garis Biru\n",
            "\n",
            "Tiket diproses: Musa untuk film A03_Dilan 1990\n",
            "\n",
            "Tiket diproses: Karezu untuk film A03_Pengabdi Setan\n"
          ]
        }
      ]
    },
    {
      "cell_type": "code",
      "source": [],
      "metadata": {
        "id": "tjxXRyOOxahc"
      },
      "execution_count": null,
      "outputs": []
    }
  ]
}