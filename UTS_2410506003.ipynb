{
  "nbformat": 4,
  "nbformat_minor": 0,
  "metadata": {
    "colab": {
      "provenance": []
    },
    "kernelspec": {
      "name": "python3",
      "display_name": "Python 3"
    },
    "language_info": {
      "name": "python"
    }
  },
  "cells": [
    {
      "cell_type": "code",
      "execution_count": 22,
      "metadata": {
        "colab": {
          "base_uri": "https://localhost:8080/"
        },
        "id": "OJiJz2IksU5-",
        "outputId": "fc415122-e9e5-4041-dea9-2fcb74b7c22f"
      },
      "outputs": [
        {
          "output_type": "stream",
          "name": "stdout",
          "text": [
            "1 \n",
            "2 3 \n",
            "4 5 6 \n",
            "7 8 9 10 \n",
            "11 12 13 14 15 \n",
            "16 17 18 19 20 21 \n",
            "22 23 24 25 26 27 28 \n",
            "29 30 31 32 33 34 35 36 \n",
            "37 38 39 40 41 42 43 44 45 \n",
            "46 47 48 49 50 51 52 53 54 55 \n"
          ]
        }
      ],
      "source": [
        "def segitiga_angka(baris):\n",
        "    angka = 1\n",
        "    for i in range(1, baris + 1):\n",
        "        for j in range(i):\n",
        "            print(angka, end=\" \")\n",
        "            angka += 1\n",
        "        print()\n",
        "\n",
        "segitiga_angka(10)"
      ]
    },
    {
      "cell_type": "code",
      "source": [],
      "metadata": {
        "id": "VqNNlOru1wOJ"
      },
      "execution_count": null,
      "outputs": []
    }
  ]
}