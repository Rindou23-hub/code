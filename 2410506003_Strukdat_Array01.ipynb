{
  "nbformat": 4,
  "nbformat_minor": 0,
  "metadata": {
    "colab": {
      "provenance": []
    },
    "kernelspec": {
      "name": "python3",
      "display_name": "Python 3"
    },
    "language_info": {
      "name": "python"
    }
  },
  "cells": [
    {
      "cell_type": "markdown",
      "source": [
        "Latihan 1"
      ],
      "metadata": {
        "id": "HfVoqxh6apJt"
      }
    },
    {
      "cell_type": "code",
      "execution_count": null,
      "metadata": {
        "id": "NWSSjDhraCgj",
        "colab": {
          "base_uri": "https://localhost:8080/"
        },
        "outputId": "494b798b-363a-487b-e060-fd2245d24a0c",
        "cellView": "form"
      },
      "outputs": [
        {
          "output_type": "stream",
          "name": "stdout",
          "text": [
            "Isi array NPM:\n",
            "2410506006\n",
            "2410506005\n",
            "2410506004\n",
            "2410506003\n"
          ]
        }
      ],
      "source": [
        "# @title Latihan 1 Kartika\n",
        "#Deklarasi NPM\n",
        "npm = \"2410506003\"\n",
        "\n",
        "#Membuat daftar NPM, dengan 4 NPM sebelumnya\n",
        "npm_array = [str(int(npm) - i) for i in range(-3, 0, 1)] + [npm]\n",
        "\n",
        "#Menampilkan isi array\n",
        "print(\"Isi array NPM:\")\n",
        "for npm in npm_array:\n",
        "    print(npm)\n"
      ]
    },
    {
      "cell_type": "markdown",
      "source": [
        "Latihan 2"
      ],
      "metadata": {
        "id": "XOlS4si8akaC"
      }
    },
    {
      "cell_type": "code",
      "source": [
        "# @title Latihan 2 Kartika\n",
        "# Array angka awal\n",
        "angka_array = [2, 4, 1, 0, 5, 0, 6, 0, 0, 3]\n",
        "\n",
        "# Definisi NPM Anda\n",
        "npm = \"2410506003\"\n",
        "\n",
        "# Ambil 2 digit terakhir dari NPM\n",
        "dua_digit_terakhir = int(npm[-2:])\n",
        "\n",
        "# Tambahkan ke dalam array\n",
        "angka_array.append(dua_digit_terakhir)\n",
        "\n",
        "# Hapus elemen pertama\n",
        "angka_array.pop(0)\n",
        "\n",
        "# Tampilkan isi array setelah perubahan\n",
        "print(\"Hasil array setelah penambahan dan penghapusan:\")\n",
        "print(angka_array)"
      ],
      "metadata": {
        "id": "IYMTq-uWaXEs",
        "colab": {
          "base_uri": "https://localhost:8080/"
        },
        "outputId": "a0a04853-7b00-4bdd-f1b3-8aaf21784e15",
        "cellView": "form"
      },
      "execution_count": null,
      "outputs": [
        {
          "output_type": "stream",
          "name": "stdout",
          "text": [
            "Hasil array setelah penambahan dan penghapusan:\n",
            "[4, 1, 0, 5, 0, 6, 0, 0, 3, 3]\n"
          ]
        }
      ]
    },
    {
      "cell_type": "markdown",
      "source": [
        "Latihan 3\n"
      ],
      "metadata": {
        "id": "BOpGpHthabIm"
      }
    },
    {
      "cell_type": "code",
      "source": [
        "# @title Latihan 3 Kartika\n",
        "# Daftar nama fakultas di Untidar\n",
        "fakultas_untidar = [\n",
        "    \"Fakultas Keguruan dan Ilmu Pendidikan\",\n",
        "    \"Fakultas Ekonomi\",\n",
        "    \"Fakultas Teknik\",\n",
        "    \"Fakultas Pertanian\",\n",
        "    \"Fakultas Ilmu Sosial dan Ilmu Politik\"\n",
        "]\n",
        "\n",
        "# Menampilkan daftar fakultas menggunakan perulangan\n",
        "print(\"Daftar Fakultas di Universitas Tidar:\")\n",
        "for fakultas in fakultas_untidar:\n",
        "    print(f\"- {fakultas}\")"
      ],
      "metadata": {
        "id": "d2-taGyeaeKK",
        "colab": {
          "base_uri": "https://localhost:8080/"
        },
        "outputId": "07d93a25-3f83-4c2f-aa17-7a84a3ba3954",
        "cellView": "form"
      },
      "execution_count": null,
      "outputs": [
        {
          "output_type": "stream",
          "name": "stdout",
          "text": [
            "Daftar Fakultas di Universitas Tidar:\n",
            "- Fakultas Keguruan dan Ilmu Pendidikan\n",
            "- Fakultas Ekonomi\n",
            "- Fakultas Teknik\n",
            "- Fakultas Pertanian\n",
            "- Fakultas Ilmu Sosial dan Ilmu Politik\n"
          ]
        }
      ]
    },
    {
      "cell_type": "markdown",
      "source": [
        "Latihan 4"
      ],
      "metadata": {
        "id": "cAosNTtVasIi"
      }
    },
    {
      "cell_type": "code",
      "source": [
        "# @title Latihan 4 Kartika\n",
        "# Array berisi harga barang\n",
        "harga_barang = [15000, 32000, 45000, 12000, 27500, 60000, 5000]\n",
        "\n",
        "# Menghitung jumlah elemen dalam array\n",
        "jumlah_elemen = len(harga_barang)\n",
        "\n",
        "# Menampilkan hasil\n",
        "print(\"Daftar harga barang:\", harga_barang)\n",
        "print(\"Jumlah elemen dalam array:\", jumlah_elemen)\n"
      ],
      "metadata": {
        "id": "FEg-f38MaiDy",
        "colab": {
          "base_uri": "https://localhost:8080/"
        },
        "outputId": "01b81e1e-1bb3-45ec-e3e9-3f2a4059bbe5",
        "cellView": "form"
      },
      "execution_count": null,
      "outputs": [
        {
          "output_type": "stream",
          "name": "stdout",
          "text": [
            "Daftar harga barang: [15000, 32000, 45000, 12000, 27500, 60000, 5000]\n",
            "Jumlah elemen dalam array: 7\n"
          ]
        }
      ]
    },
    {
      "cell_type": "markdown",
      "source": [
        "Latihan 5"
      ],
      "metadata": {
        "id": "mt1PbuhJawf6"
      }
    },
    {
      "cell_type": "code",
      "source": [
        "# @title Latihan 5 Kartika\n",
        "# Membuat array 2D (3x4)\n",
        "A = [\n",
        "    [1, 2, 3, 4],\n",
        "    [5, 6, 7, 8],\n",
        "    [9, 10, 11, 12]\n",
        "]\n",
        "\n",
        "# Menampilkan isi array menggunakan perulangan\n",
        "print(\"Hasil array 2D:\")\n",
        "for baris in A:\n",
        "    for elemen in baris:\n",
        "        print(elemen, end=\" \")\n",
        "    print()  # Pindah ke baris baru"
      ],
      "metadata": {
        "id": "qww4KlkNaxqB",
        "colab": {
          "base_uri": "https://localhost:8080/"
        },
        "outputId": "df5bcb31-121e-49c6-f79b-40726e60139a",
        "cellView": "form"
      },
      "execution_count": null,
      "outputs": [
        {
          "output_type": "stream",
          "name": "stdout",
          "text": [
            "Hasil array 2D:\n",
            "1 2 3 4 \n",
            "5 6 7 8 \n",
            "9 10 11 12 \n"
          ]
        }
      ]
    },
    {
      "cell_type": "markdown",
      "source": [
        "Latihan 6"
      ],
      "metadata": {
        "id": "ueJ0B11ha1My"
      }
    },
    {
      "cell_type": "code",
      "source": [
        "# @title Latihan 6 Kartika\n",
        "#Membuat array 2D (3x4)\n",
        "A = [\n",
        "    [1, 2, 3, 4],\n",
        "    [5, 6, 7, 8],  # Baris ke-2 (indeks 1)\n",
        "    [9, 10, 11, 12]\n",
        "]\n",
        "\n",
        "# Mengakses elemen pada baris 2, kolom 4\n",
        "elemen = A [1][3]  # Indeks 1 untuk baris ke-2, indeks 3 untuk kolom ke-4\n",
        "\n",
        "# Menampilkan hasil\n",
        "print(\"Elemen pada baris 2, kolom 4 adalah:\", elemen)\n"
      ],
      "metadata": {
        "id": "3_JcNa0Ua0pL",
        "colab": {
          "base_uri": "https://localhost:8080/"
        },
        "outputId": "2da1a68f-170a-4d41-98b4-8c2c8b3ebbaf",
        "cellView": "form"
      },
      "execution_count": null,
      "outputs": [
        {
          "output_type": "stream",
          "name": "stdout",
          "text": [
            "Elemen pada baris 2, kolom 4 adalah: 8\n"
          ]
        }
      ]
    },
    {
      "cell_type": "markdown",
      "source": [
        "Latihan 7"
      ],
      "metadata": {
        "id": "h_myxjyua6Aa"
      }
    },
    {
      "cell_type": "code",
      "source": [
        "# @title Latihan 7 Kartika\n",
        "# Array 2D awal\n",
        "A = [\n",
        "    [1, 2, 3, 4],\n",
        "    [5, 6, 7, 8],\n",
        "    [9, 10, 11, 12]\n",
        "]\n",
        "\n",
        "# Data tanggal lahir\n",
        "tanggal_lahir = [12, 8, 20, 6]  # [tanggal, bulan, 2 digit awal tahun, digit terakhir tahun]\n",
        "\n",
        "# Menambahkan baris baru ke dalam array\n",
        "A.append(tanggal_lahir)\n",
        "\n",
        "# Menampilkan isi array dalam bentuk baris dan kolom\n",
        "print(\"Hasil array 2D setelah ditambahkan baris baru:\")\n",
        "for baris in A:\n",
        "    for elemen in baris:\n",
        "        print(elemen, end=\"\\t\")  # Gunakan tab untuk pemisah kolom\n",
        "    print()  # Pindah ke baris baru"
      ],
      "metadata": {
        "id": "823_2eBLa55n",
        "colab": {
          "base_uri": "https://localhost:8080/"
        },
        "outputId": "0e21e3c1-3693-4b49-aa5b-1c9e7339964c",
        "cellView": "form"
      },
      "execution_count": null,
      "outputs": [
        {
          "output_type": "stream",
          "name": "stdout",
          "text": [
            "Hasil array 2D setelah ditambahkan baris baru:\n",
            "1\t2\t3\t4\t\n",
            "5\t6\t7\t8\t\n",
            "9\t10\t11\t12\t\n",
            "12\t8\t20\t6\t\n"
          ]
        }
      ]
    },
    {
      "cell_type": "markdown",
      "source": [
        "Latihan 8"
      ],
      "metadata": {
        "id": "pGnN6HQAa-hC"
      }
    },
    {
      "cell_type": "code",
      "source": [
        "# @title Latihan 8 Kartika\n",
        "# Array 2D setelah Latihan 7\n",
        "A = [\n",
        "    [1, 2, 3, 4],\n",
        "    [5, 6, 7, 8],\n",
        "    [9, 10, 11, 12],\n",
        "    [2, 6, 1, 5]\n",
        "]\n",
        "# Menghapus elemen ke-3 (indeks 2) dari baris terakhir (indeks -1)\n",
        "del A[-1][2]\n",
        "\n",
        "# Menampilkan isi array setelah penghapusan\n",
        "print(\"Hasil array setelah menghapus elemen ke-3 dari baris terakhir:\")\n",
        "for baris in A:\n",
        "    for elemen in baris:\n",
        "        print(elemen, end=\"\\t\")\n",
        "    print()"
      ],
      "metadata": {
        "id": "W4WuHF2ibAOQ",
        "colab": {
          "base_uri": "https://localhost:8080/"
        },
        "outputId": "584699e2-bd65-48c1-ae99-ba3894b92711",
        "cellView": "form"
      },
      "execution_count": null,
      "outputs": [
        {
          "output_type": "stream",
          "name": "stdout",
          "text": [
            "Hasil array setelah menghapus elemen ke-3 dari baris terakhir:\n",
            "1\t2\t3\t4\t\n",
            "5\t6\t7\t8\t\n",
            "9\t10\t11\t12\t\n",
            "2\t6\t5\t\n"
          ]
        }
      ]
    },
    {
      "cell_type": "markdown",
      "source": [
        "Latihan 9"
      ],
      "metadata": {
        "id": "Rm9bTTaqbDCa"
      }
    },
    {
      "cell_type": "code",
      "source": [
        "# @title Latihan 9 Kartika\n",
        "from datetime import datetime\n",
        "\n",
        "# Array 2D setelah latihan sebelumnya\n",
        "A = [\n",
        "    [1, 2, 3, 4],\n",
        "    [5, 6, 7, 8],\n",
        "    [9, 10, 11, 12],\n",
        "    [2, 6, 1, 5]\n",
        "]\n",
        "\n",
        "# Mendapatkan tanggal hari ini\n",
        "tanggal_hari_ini = datetime.today().day\n",
        "\n",
        "# Mengubah elemen baris terakhir, kolom terakhir\n",
        "A[-1][-1] = tanggal_hari_ini\n",
        "\n",
        "# Menampilkan array setelah perubahan\n",
        "print(\"Hasil array setelah mengubah elemen terakhir:\")\n",
        "for baris in A:\n",
        "    for elemen in baris:\n",
        "        print(elemen, end=\"\\t\")\n",
        "    print()"
      ],
      "metadata": {
        "id": "v53oWjPtbEU4",
        "colab": {
          "base_uri": "https://localhost:8080/"
        },
        "outputId": "2467a776-1ff4-45b7-af85-8b58c1965c0f",
        "cellView": "form"
      },
      "execution_count": null,
      "outputs": [
        {
          "output_type": "stream",
          "name": "stdout",
          "text": [
            "Hasil array setelah mengubah elemen terakhir:\n",
            "1\t2\t3\t4\t\n",
            "5\t6\t7\t8\t\n",
            "9\t10\t11\t12\t\n",
            "2\t6\t1\t18\t\n"
          ]
        }
      ]
    },
    {
      "cell_type": "markdown",
      "source": [
        "Latihan 10"
      ],
      "metadata": {
        "id": "ZSQns8vBbIBt"
      }
    },
    {
      "cell_type": "code",
      "source": [
        "# @title Latihan 10 Kartika\n",
        "#Daftar belanjaan\n",
        "daftar_belanja = [\"Garam\", \"Lada\", \"Kunyit\"]\n",
        "daftar_belanja.append(\"Telur\")\n",
        "daftar_belanja.remove(\"Kunyit\")\n",
        "print(\"Daftar belanja terbaru:\", daftar_belanja)"
      ],
      "metadata": {
        "id": "yF5lwkvUbH25",
        "colab": {
          "base_uri": "https://localhost:8080/"
        },
        "outputId": "b5af84a7-4d86-47de-b512-e41a430abc87",
        "cellView": "form"
      },
      "execution_count": null,
      "outputs": [
        {
          "output_type": "stream",
          "name": "stdout",
          "text": [
            "Daftar belanja terbaru: ['Garam', 'Lada', 'Telur']\n"
          ]
        }
      ]
    },
    {
      "cell_type": "markdown",
      "source": [
        "TREASURE HUNT"
      ],
      "metadata": {
        "id": "rrBzOIG2cJ_5"
      }
    },
    {
      "cell_type": "code",
      "source": [
        "# @title Treasure Hunt\n",
        "#Ukuran peta\n",
        "size = 10\n",
        "\n",
        "#Membuat peta dengan harta karun tersembunyi\n",
        "treasure_map = [\"_\" for _ in range(size)]\n",
        "\n",
        "#Tentukan lokasi harta karus secara manual\n",
        "print(f\"Selamat datang di Treasure Hunt! Peta memiliki {size} lokasi (0 hingga {size-1}).\")\n",
        "treasure_index = int(input(f\"Masukkan lokasi harta karun (0-{size-1}): \"))\n",
        "while treasure_index < 0 or treasure_index >= size:\n",
        "    print(\"Lokasi tidak valid. Masukkan angka dalam rentang yang benar.\")\n",
        "    treasure_index = int(input(f\"Masukkan lokasi harta karun (0-{size-1}): \"))\n",
        "\n",
        "treasure_map[treasure_index] = \"X\" #Menyembunyikan harta karun di lokasi yang dipilih\n",
        "\n",
        "#Fungsi untuk memulai permainan\n",
        "def play_treasure_hunt():\n",
        "    print(\"\\nHarta karun telah disembunyikan! Sekarang giliran pemain menebak.\")\n",
        "\n",
        "    #Loop permainan\n",
        "    while True:\n",
        "        #Menampilkan peta tersembunyi kepada pemain\n",
        "        print(\"\\nPeta saat ini:\", [\"_\" for _ in range(size)]) #Peta tersembunyi\n",
        "\n",
        "        #Input pemain\n",
        "        try:\n",
        "            guess = int(input(f\"Masukkan indeks tebakanmu (0-{size-1}):\"))\n",
        "        except ValueError:\n",
        "            print(\"Masukkan angka yang valid!\")\n",
        "            continue\n",
        "        #Validasi Input\n",
        "        if guess < 0 or guess >= size:\n",
        "            print(\"Indeks tidak valid, pilih antara 0 hingga\", size-1)\n",
        "            continue\n",
        "\n",
        "        #Mengecek apakah tebakan benar\n",
        "        if treasure_map[guess] == \"X\":\n",
        "            print(\"Selamat! Kamu menemukan harta karun di lokasi:\", guess)\n",
        "            break\n",
        "        else:\n",
        "            print(\"Tidak ada harta di lokasi ini. Coba lagi!\")\n",
        "\n",
        "    print(\"Terima kasih sudah bermain!\")\n",
        "\n",
        "#Jalankan permainan\n",
        "play_treasure_hunt()\n",
        "\n"
      ],
      "metadata": {
        "colab": {
          "base_uri": "https://localhost:8080/"
        },
        "id": "yUE0K2lvcJyN",
        "outputId": "d3b85bbe-899b-4c84-d14d-d5613d5fb533",
        "cellView": "form"
      },
      "execution_count": null,
      "outputs": [
        {
          "output_type": "stream",
          "name": "stdout",
          "text": [
            "Selamat datang di Treasure Hunt! Peta memiliki 10 lokasi (0 hingga 9).\n",
            "Masukkan lokasi harta karun (0-9): 6\n",
            "\n",
            "Harta karun telah disembunyikan! Sekarang giliran pemain menebak.\n",
            "\n",
            "Peta saat ini: ['_', '_', '_', '_', '_', '_', '_', '_', '_', '_']\n",
            "Masukkan indeks tebakanmu (0-9):4\n",
            "Tidak ada harta di lokasi ini. Coba lagi!\n",
            "\n",
            "Peta saat ini: ['_', '_', '_', '_', '_', '_', '_', '_', '_', '_']\n",
            "Masukkan indeks tebakanmu (0-9):6\n",
            "Selamat! Kamu menemukan harta karun di lokasi: 6\n",
            "Terima kasih sudah bermain!\n"
          ]
        }
      ]
    },
    {
      "cell_type": "code",
      "source": [
        "# @title Treasure Hunt Modifikasi\n",
        "import random\n",
        "\n",
        "# Meminta input ukuran peta dari pemain\n",
        "size = int(input(\"Masukkan ukuran peta yang kamu inginkan: \"))\n",
        "\n",
        "# Membuat peta dengan harta karun tersembunyi\n",
        "treasure_map = [\"_\" for _ in range(size)]\n",
        "\n",
        "# Menentukan lokasi harta karun secara acak\n",
        "treasure_index = random.randint(0, size - 1)\n",
        "treasure_map[treasure_index] = \"X\"\n",
        "\n",
        "print(f\"Selamat datang di Treasure Hunt! Peta memiliki {size} lokasi (0 hingga {size-1}).\")\n",
        "\n",
        "def play_treasure_hunt():\n",
        "    print(\"\\nHarta karun telah disembunyikan! Sekarang giliran pemain menebak.\")\n",
        "\n",
        "    while True:\n",
        "        # Menampilkan peta tersembunyi kepada pemain\n",
        "        print(\"\\nPeta saat ini:\", [\"_\" for _ in range(size)])  # Peta tetap tersembunyi\n",
        "\n",
        "        # Input tebakan pemain\n",
        "        try:\n",
        "            guess = int(input(f\"Masukkan indeks tebakanmu (0-{size-1}): \"))\n",
        "        except ValueError:\n",
        "            print(\"Masukkan angka yang valid!\")\n",
        "            continue\n",
        "\n",
        "        # Validasi input\n",
        "        if guess < 0 or guess >= size:\n",
        "            print(\"Indeks tidak valid, pilih antara 0 hingga\", size-1)\n",
        "            continue\n",
        "\n",
        "        # Mengecek apakah tebakan benar\n",
        "        if treasure_map[guess] == \"X\":\n",
        "            print(\"🎉🎉 Selamat! Kamu menemukan harta karun di lokasi:\", guess)\n",
        "            break\n",
        "        else:\n",
        "            print(\"❌ Tidak ada harta di lokasi ini. Coba lagi!\")\n",
        "\n",
        "    print(\"Terima kasih sudah bermain!\")\n",
        "\n",
        "# Jalankan permainan\n",
        "play_treasure_hunt()\n"
      ],
      "metadata": {
        "id": "ieH8KmuAfaAt",
        "colab": {
          "base_uri": "https://localhost:8080/"
        },
        "cellView": "form",
        "outputId": "381766fe-daa0-46f0-83d7-f90c145635fb"
      },
      "execution_count": 3,
      "outputs": [
        {
          "output_type": "stream",
          "name": "stdout",
          "text": [
            "Masukkan ukuran peta yang kamu inginkan: 6\n",
            "Selamat datang di Treasure Hunt! Peta memiliki 6 lokasi (0 hingga 5).\n",
            "\n",
            "Harta karun telah disembunyikan! Sekarang giliran pemain menebak.\n",
            "\n",
            "Peta saat ini: ['_', '_', '_', '_', '_', '_']\n",
            "Masukkan indeks tebakanmu (0-5): 3\n",
            "❌ Tidak ada harta di lokasi ini. Coba lagi!\n",
            "\n",
            "Peta saat ini: ['_', '_', '_', '_', '_', '_']\n",
            "Masukkan indeks tebakanmu (0-5): 2\n",
            "❌ Tidak ada harta di lokasi ini. Coba lagi!\n",
            "\n",
            "Peta saat ini: ['_', '_', '_', '_', '_', '_']\n",
            "Masukkan indeks tebakanmu (0-5): 4\n",
            "❌ Tidak ada harta di lokasi ini. Coba lagi!\n",
            "\n",
            "Peta saat ini: ['_', '_', '_', '_', '_', '_']\n",
            "Masukkan indeks tebakanmu (0-5): 1\n",
            "❌ Tidak ada harta di lokasi ini. Coba lagi!\n",
            "\n",
            "Peta saat ini: ['_', '_', '_', '_', '_', '_']\n",
            "Masukkan indeks tebakanmu (0-5): 5\n",
            "🎉🎉 Selamat! Kamu menemukan harta karun di lokasi: 5\n",
            "Terima kasih sudah bermain!\n"
          ]
        }
      ]
    }
  ]
}