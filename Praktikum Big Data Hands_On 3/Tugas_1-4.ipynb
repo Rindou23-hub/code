{
  "nbformat": 4,
  "nbformat_minor": 0,
  "metadata": {
    "colab": {
      "provenance": []
    },
    "kernelspec": {
      "name": "python3",
      "display_name": "Python 3"
    },
    "language_info": {
      "name": "python"
    }
  },
  "cells": [
    {
      "cell_type": "code",
      "execution_count": 41,
      "metadata": {
        "colab": {
          "base_uri": "https://localhost:8080/"
        },
        "id": "AT0Hr1S4GXOC",
        "outputId": "f946fc1a-425f-4f0c-ee16-9566564b6490"
      },
      "outputs": [
        {
          "output_type": "stream",
          "name": "stdout",
          "text": [
            "+---+----------------+----+-----------+-----------------+-----+----------------+\n",
            "| ID|    NamaKaryawan|Usia|     Divisi|          Jabatan| Gaji|TanggalBergabung|\n",
            "+---+----------------+----+-----------+-----------------+-----+----------------+\n",
            "|E01| Wielino Septian|  28|Engineering|Software Engineer|75000|      2020-01-15|\n",
            "|M01|Guntur Syahputra|  32|  Marketing|Marketing Manager|68000|      2019-03-20|\n",
            "|E02|  Steven Aprizal|  45|Engineering|  Senior Engineer|95000|      2018-07-10|\n",
            "|H01|      Ace Anthem|  29|         HR|    HR Specialist|55000|      2021-02-05|\n",
            "|F01| Karezu Hanayako|  38|    Finance|Financial Analyst|72000|      2019-11-12|\n",
            "|M02|       Musa Okta|  26|  Marketing|   Marketing Coor|48000|      2022-01-08|\n",
            "|F02|      Rafli Ihza|  41|    Finance|  Finance Manager|88000|      2017-09-25|\n",
            "|E03| Hendrawan Putra|  33|Engineering|  DevOps Engineer|82000|      2020-06-18|\n",
            "|H02|     Nyoman Agas|  35|         HR|       HR Manager|78000|      2018-12-03|\n",
            "|M03|   Arta Dewangga|  27|  Marketing| Digital Marketer|52000|      2021-08-14|\n",
            "+---+----------------+----+-----------+-----------------+-----+----------------+\n",
            "\n"
          ]
        }
      ],
      "source": [
        "from pyspark.sql import SparkSession\n",
        "spark = SparkSession.builder.appName('BigData3').getOrCreate()\n",
        "\n",
        "data = [(\"E01\", \"Wielino Septian\", 28, \"Engineering\", \"Software Engineer\", 75000, \"2020-01-15\"),\n",
        "        (\"M01\", \"Guntur Syahputra\", 32, \"Marketing\", \"Marketing Manager\", 68000, \"2019-03-20\"),\n",
        "        (\"E02\", \"Steven Aprizal\", 45, \"Engineering\", \"Senior Engineer\", 95000, \"2018-07-10\"),\n",
        "        (\"H01\", \"Ace Anthem\", 29, \"HR\", \"HR Specialist\", 55000, \"2021-02-05\"),\n",
        "        (\"F01\", \"Karezu Hanayako\", 38, \"Finance\", \"Financial Analyst\", 72000, \"2019-11-12\"),\n",
        "        (\"M02\", \"Musa Okta\", 26, \"Marketing\", \"Marketing Coor\", 48000, \"2022-01-08\"),\n",
        "        (\"F02\", \"Rafli Ihza\", 41, \"Finance\", \"Finance Manager\", 88000, \"2017-09-25\"),\n",
        "        (\"E03\", \"Hendrawan Putra\", 33, \"Engineering\", \"DevOps Engineer\", 82000, \"2020-06-18\"),\n",
        "        (\"H02\", \"Nyoman Agas\", 35, \"HR\", \"HR Manager\", 78000, \"2018-12-03\"),\n",
        "        (\"M03\", \"Arta Dewangga\", 27, \"Marketing\", \"Digital Marketer\", 52000, \"2021-08-14\")\n",
        "        ]\n",
        "columns = ['ID', 'NamaKaryawan', 'Usia', 'Divisi', 'Jabatan', 'Gaji', 'TanggalBergabung']\n",
        "\n",
        "df = spark.createDataFrame(data, schema=columns)\n",
        "df.show()"
      ]
    },
    {
      "cell_type": "code",
      "source": [
        "print(\"Identitas Karyawan\")\n",
        "df.select(\"ID\", \"NamaKaryawan\",\"Jabatan\", \"Gaji\").show()\n",
        "\n",
        "print(\"Karyawan yang memiliki gaji lebih dari 70000\")\n",
        "df.filter(df[\"Gaji\"] > 70000).select(\"ID\", \"Divisi\", \"Gaji\").show()\n",
        "\n",
        "print(\"Rata-rata Gaji Karyawan setiap Divisi\")\n",
        "df.groupBy(\"Divisi\").avg(\"Gaji\").show()\n",
        "\n",
        "print(\"Rata-rata gaji semua karyawan\")\n",
        "df.groupBy().mean(\"Gaji\").show()\n",
        "\n",
        "print(\"Gaji maksimum setiap Divisi\")\n",
        "df.groupBy(\"Divisi\").max(\"Gaji\").show()\n",
        "\n",
        "print(\"Total Semua Gaji Karyawan\")\n",
        "df.groupBy().sum(\"Gaji\").show()"
      ],
      "metadata": {
        "colab": {
          "base_uri": "https://localhost:8080/"
        },
        "id": "yeqk_9HAKZI8",
        "outputId": "1a569da2-568a-4bff-dc0b-0c734e3b3f96"
      },
      "execution_count": 42,
      "outputs": [
        {
          "output_type": "stream",
          "name": "stdout",
          "text": [
            "Identitas Karyawan\n",
            "+---+----------------+-----------------+-----+\n",
            "| ID|    NamaKaryawan|          Jabatan| Gaji|\n",
            "+---+----------------+-----------------+-----+\n",
            "|E01| Wielino Septian|Software Engineer|75000|\n",
            "|M01|Guntur Syahputra|Marketing Manager|68000|\n",
            "|E02|  Steven Aprizal|  Senior Engineer|95000|\n",
            "|H01|      Ace Anthem|    HR Specialist|55000|\n",
            "|F01| Karezu Hanayako|Financial Analyst|72000|\n",
            "|M02|       Musa Okta|   Marketing Coor|48000|\n",
            "|F02|      Rafli Ihza|  Finance Manager|88000|\n",
            "|E03| Hendrawan Putra|  DevOps Engineer|82000|\n",
            "|H02|     Nyoman Agas|       HR Manager|78000|\n",
            "|M03|   Arta Dewangga| Digital Marketer|52000|\n",
            "+---+----------------+-----------------+-----+\n",
            "\n",
            "Karyawan yang memiliki gaji lebih dari 70000\n",
            "+---+-----------+-----+\n",
            "| ID|     Divisi| Gaji|\n",
            "+---+-----------+-----+\n",
            "|E01|Engineering|75000|\n",
            "|E02|Engineering|95000|\n",
            "|F01|    Finance|72000|\n",
            "|F02|    Finance|88000|\n",
            "|E03|Engineering|82000|\n",
            "|H02|         HR|78000|\n",
            "+---+-----------+-----+\n",
            "\n",
            "Rata-rata Gaji Karyawan setiap Divisi\n",
            "+-----------+---------+\n",
            "|     Divisi|avg(Gaji)|\n",
            "+-----------+---------+\n",
            "|Engineering|  84000.0|\n",
            "|         HR|  66500.0|\n",
            "|    Finance|  80000.0|\n",
            "|  Marketing|  56000.0|\n",
            "+-----------+---------+\n",
            "\n",
            "Rata-rata gaji semua karyawan\n",
            "+---------+\n",
            "|avg(Gaji)|\n",
            "+---------+\n",
            "|  71300.0|\n",
            "+---------+\n",
            "\n",
            "Gaji maksimum setiap Divisi\n",
            "+-----------+---------+\n",
            "|     Divisi|max(Gaji)|\n",
            "+-----------+---------+\n",
            "|Engineering|    95000|\n",
            "|         HR|    78000|\n",
            "|    Finance|    88000|\n",
            "|  Marketing|    68000|\n",
            "+-----------+---------+\n",
            "\n",
            "Total Semua Gaji Karyawan\n",
            "+---------+\n",
            "|sum(Gaji)|\n",
            "+---------+\n",
            "|   713000|\n",
            "+---------+\n",
            "\n"
          ]
        }
      ]
    },
    {
      "cell_type": "code",
      "source": [
        "from pyspark.sql import functions as F\n",
        "\n",
        "df_bonustotal = df.withColumn(\"Bonus\", df[\"Gaji\"] * 0.1)\n",
        "df_bonustotal = df_bonustotal.withColumn(\"TotalCompensation\", df_bonustotal[\"Gaji\"] + df_bonustotal[\"Bonus\"])\n",
        "df_bonustotal.show()\n",
        "\n",
        "df_lamaKerja = df.withColumn(\"TanggalBergabung\", F.to_date(\"TanggalBergabung\", \"yyyy-MM-dd\"))\n",
        "df_lamaKerja = df_lamaKerja.withColumn(\"Tahun_Bekerja\", F.year(F.current_date()) - F.year(F.col(\"TanggalBergabung\")))\n",
        "df_lamaKerja.show()\n"
      ],
      "metadata": {
        "colab": {
          "base_uri": "https://localhost:8080/"
        },
        "id": "FMJO4--hT2XE",
        "outputId": "24c9432d-8a94-4380-d693-1647325ea223"
      },
      "execution_count": 51,
      "outputs": [
        {
          "output_type": "stream",
          "name": "stdout",
          "text": [
            "+---+----------------+----+-----------+-----------------+-----+----------------+------+-----------------+\n",
            "| ID|    NamaKaryawan|Usia|     Divisi|          Jabatan| Gaji|TanggalBergabung| Bonus|TotalCompensation|\n",
            "+---+----------------+----+-----------+-----------------+-----+----------------+------+-----------------+\n",
            "|E01| Wielino Septian|  28|Engineering|Software Engineer|75000|      2020-01-15|7500.0|          82500.0|\n",
            "|M01|Guntur Syahputra|  32|  Marketing|Marketing Manager|68000|      2019-03-20|6800.0|          74800.0|\n",
            "|E02|  Steven Aprizal|  45|Engineering|  Senior Engineer|95000|      2018-07-10|9500.0|         104500.0|\n",
            "|H01|      Ace Anthem|  29|         HR|    HR Specialist|55000|      2021-02-05|5500.0|          60500.0|\n",
            "|F01| Karezu Hanayako|  38|    Finance|Financial Analyst|72000|      2019-11-12|7200.0|          79200.0|\n",
            "|M02|       Musa Okta|  26|  Marketing|   Marketing Coor|48000|      2022-01-08|4800.0|          52800.0|\n",
            "|F02|      Rafli Ihza|  41|    Finance|  Finance Manager|88000|      2017-09-25|8800.0|          96800.0|\n",
            "|E03| Hendrawan Putra|  33|Engineering|  DevOps Engineer|82000|      2020-06-18|8200.0|          90200.0|\n",
            "|H02|     Nyoman Agas|  35|         HR|       HR Manager|78000|      2018-12-03|7800.0|          85800.0|\n",
            "|M03|   Arta Dewangga|  27|  Marketing| Digital Marketer|52000|      2021-08-14|5200.0|          57200.0|\n",
            "+---+----------------+----+-----------+-----------------+-----+----------------+------+-----------------+\n",
            "\n",
            "+---+----------------+----+-----------+-----------------+-----+----------------+------+-----------------+-------------+\n",
            "| ID|    NamaKaryawan|Usia|     Divisi|          Jabatan| Gaji|TanggalBergabung| Bonus|TotalCompensation|Tahun_Bekerja|\n",
            "+---+----------------+----+-----------+-----------------+-----+----------------+------+-----------------+-------------+\n",
            "|E01| Wielino Septian|  28|Engineering|Software Engineer|75000|      2020-01-15|7500.0|          82500.0|            5|\n",
            "|M01|Guntur Syahputra|  32|  Marketing|Marketing Manager|68000|      2019-03-20|6800.0|          74800.0|            6|\n",
            "|E02|  Steven Aprizal|  45|Engineering|  Senior Engineer|95000|      2018-07-10|9500.0|         104500.0|            7|\n",
            "|H01|      Ace Anthem|  29|         HR|    HR Specialist|55000|      2021-02-05|5500.0|          60500.0|            4|\n",
            "|F01| Karezu Hanayako|  38|    Finance|Financial Analyst|72000|      2019-11-12|7200.0|          79200.0|            6|\n",
            "|M02|       Musa Okta|  26|  Marketing|   Marketing Coor|48000|      2022-01-08|4800.0|          52800.0|            3|\n",
            "|F02|      Rafli Ihza|  41|    Finance|  Finance Manager|88000|      2017-09-25|8800.0|          96800.0|            8|\n",
            "|E03| Hendrawan Putra|  33|Engineering|  DevOps Engineer|82000|      2020-06-18|8200.0|          90200.0|            5|\n",
            "|H02|     Nyoman Agas|  35|         HR|       HR Manager|78000|      2018-12-03|7800.0|          85800.0|            7|\n",
            "|M03|   Arta Dewangga|  27|  Marketing| Digital Marketer|52000|      2021-08-14|5200.0|          57200.0|            4|\n",
            "+---+----------------+----+-----------+-----------------+-----+----------------+------+-----------------+-------------+\n",
            "\n"
          ]
        }
      ]
    },
    {
      "cell_type": "code",
      "source": [
        "from pyspark.sql import functions as F\n",
        "from pyspark.sql.window import Window\n",
        "window_rank = Window.partitionBy(\"Divisi\").orderBy(F.desc(\"Gaji\"))\n",
        "df_rank = df.withColumn(\"RankBySalary\", F.rank().over(window_rank))\n",
        "df_rank.show()"
      ],
      "metadata": {
        "colab": {
          "base_uri": "https://localhost:8080/"
        },
        "id": "F_vU7DaDZOVP",
        "outputId": "4b84aea2-d0d5-4d4b-9f3c-c925230bb2b1"
      },
      "execution_count": 53,
      "outputs": [
        {
          "output_type": "stream",
          "name": "stdout",
          "text": [
            "+---+----------------+----+-----------+-----------------+-----+----------------+------+-----------------+------------+\n",
            "| ID|    NamaKaryawan|Usia|     Divisi|          Jabatan| Gaji|TanggalBergabung| Bonus|TotalCompensation|RankBySalary|\n",
            "+---+----------------+----+-----------+-----------------+-----+----------------+------+-----------------+------------+\n",
            "|E02|  Steven Aprizal|  45|Engineering|  Senior Engineer|95000|      2018-07-10|9500.0|         104500.0|           1|\n",
            "|E03| Hendrawan Putra|  33|Engineering|  DevOps Engineer|82000|      2020-06-18|8200.0|          90200.0|           2|\n",
            "|E01| Wielino Septian|  28|Engineering|Software Engineer|75000|      2020-01-15|7500.0|          82500.0|           3|\n",
            "|F02|      Rafli Ihza|  41|    Finance|  Finance Manager|88000|      2017-09-25|8800.0|          96800.0|           1|\n",
            "|F01| Karezu Hanayako|  38|    Finance|Financial Analyst|72000|      2019-11-12|7200.0|          79200.0|           2|\n",
            "|H02|     Nyoman Agas|  35|         HR|       HR Manager|78000|      2018-12-03|7800.0|          85800.0|           1|\n",
            "|H01|      Ace Anthem|  29|         HR|    HR Specialist|55000|      2021-02-05|5500.0|          60500.0|           2|\n",
            "|M01|Guntur Syahputra|  32|  Marketing|Marketing Manager|68000|      2019-03-20|6800.0|          74800.0|           1|\n",
            "|M03|   Arta Dewangga|  27|  Marketing| Digital Marketer|52000|      2021-08-14|5200.0|          57200.0|           2|\n",
            "|M02|       Musa Okta|  26|  Marketing|   Marketing Coor|48000|      2022-01-08|4800.0|          52800.0|           3|\n",
            "+---+----------------+----+-----------+-----------------+-----+----------------+------+-----------------+------------+\n",
            "\n"
          ]
        }
      ]
    },
    {
      "cell_type": "code",
      "source": [],
      "metadata": {
        "id": "PK2tUvAbZaWH"
      },
      "execution_count": null,
      "outputs": []
    }
  ]
}