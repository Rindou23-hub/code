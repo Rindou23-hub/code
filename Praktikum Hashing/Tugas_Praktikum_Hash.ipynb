{
  "nbformat": 4,
  "nbformat_minor": 0,
  "metadata": {
    "colab": {
      "provenance": []
    },
    "kernelspec": {
      "name": "python3",
      "display_name": "Python 3"
    },
    "language_info": {
      "name": "python"
    }
  },
  "cells": [
    {
      "cell_type": "code",
      "execution_count": 1,
      "metadata": {
        "colab": {
          "base_uri": "https://localhost:8080/"
        },
        "id": "eaFki7e6zc3E",
        "outputId": "11435837-be8a-43de-ba3a-b77e1a677b6d"
      },
      "outputs": [
        {
          "output_type": "stream",
          "name": "stdout",
          "text": [
            "Isi tabel Linear Probing:\n",
            "Index 0: ('B', 20)\n",
            "Index 1: ('C', 30)\n",
            "Index 2: ('D', 40)\n",
            "Index 3: ('E', 50)\n",
            "Index 4: ('A', 10)\n"
          ]
        }
      ],
      "source": [
        "class LinearProbingHashTable:\n",
        "    def __init__(self, size):\n",
        "        self.size = size\n",
        "        self.table = [None] * size\n",
        "\n",
        "    def hash_function(self, key):\n",
        "        return hash(key) % self.size\n",
        "\n",
        "    def insert(self, key, value):\n",
        "        index = self.hash_function(key)\n",
        "        original_index = index\n",
        "\n",
        "        while self.table[index] is not None:\n",
        "            if self.table[index][0] == key:\n",
        "                break\n",
        "            index = (index + 1) % self.size\n",
        "            if index == original_index:\n",
        "                raise Exception(\"Hash table penuh\")\n",
        "\n",
        "        self.table[index] = (key, value)\n",
        "\n",
        "    def display(self):\n",
        "        for i, item in enumerate(self.table):\n",
        "            print(f\"Index {i}: {item}\")\n",
        "\n",
        "\n",
        "# a. Buat objek\n",
        "ht = LinearProbingHashTable(5)\n",
        "\n",
        "# b. Masukkan data\n",
        "data = {\"A\": 10, \"B\": 20, \"C\": 30, \"D\": 40, \"E\": 50}\n",
        "for key, value in data.items():\n",
        "    ht.insert(key, value)\n",
        "\n",
        "# c. Cetak isi tabel\n",
        "print(\"Isi tabel Linear Probing:\")\n",
        "ht.display()\n"
      ]
    },
    {
      "cell_type": "code",
      "source": [
        "class ChainingHashTable:\n",
        "    def __init__(self, size):\n",
        "        self.size = size\n",
        "        self.table = [[] for _ in range(size)]\n",
        "\n",
        "    def hash_function(self, key):\n",
        "        return hash(key) % self.size\n",
        "\n",
        "    def insert(self, key, value):\n",
        "        index = self.hash_function(key)\n",
        "        for i, (k, v) in enumerate(self.table[index]):\n",
        "            if k == key:\n",
        "                self.table[index][i] = (key, value)\n",
        "                return\n",
        "        self.table[index].append((key, value))\n",
        "\n",
        "    def display(self):\n",
        "        for i, slot in enumerate(self.table):\n",
        "            print(f\"Index {i}: {slot}\")\n",
        "\n",
        "\n",
        "# a. Gunakan ukuran tabel 3\n",
        "ht = ChainingHashTable(3)\n",
        "\n",
        "# b. Masukkan data\n",
        "data = {\n",
        "    \"apel\": 100,\n",
        "    \"melon\": 200,\n",
        "    \"lemon\": 300,\n",
        "    \"pisang\": 400\n",
        "}\n",
        "\n",
        "for key, value in data.items():\n",
        "    ht.insert(key, value)\n",
        "\n",
        "# c. Cetak isi tabel\n",
        "print(\"Isi tabel Chaining:\")\n",
        "ht.display()\n"
      ],
      "metadata": {
        "colab": {
          "base_uri": "https://localhost:8080/"
        },
        "id": "k3PpJ9Bj0OfF",
        "outputId": "9c4a79c8-af97-454b-8a0e-612fa75b0f83"
      },
      "execution_count": 3,
      "outputs": [
        {
          "output_type": "stream",
          "name": "stdout",
          "text": [
            "Isi tabel Chaining:\n",
            "Index 0: [('melon', 200), ('lemon', 300)]\n",
            "Index 1: [('pisang', 400)]\n",
            "Index 2: [('apel', 100)]\n"
          ]
        }
      ]
    },
    {
      "cell_type": "code",
      "source": [],
      "metadata": {
        "id": "2a4A29Zx0m-W"
      },
      "execution_count": null,
      "outputs": []
    }
  ]
}