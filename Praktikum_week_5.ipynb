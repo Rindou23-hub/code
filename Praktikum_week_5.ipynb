{
  "nbformat": 4,
  "nbformat_minor": 0,
  "metadata": {
    "colab": {
      "provenance": []
    },
    "kernelspec": {
      "name": "python3",
      "display_name": "Python 3"
    },
    "language_info": {
      "name": "python"
    }
  },
  "cells": [
    {
      "cell_type": "code",
      "execution_count": null,
      "metadata": {
        "colab": {
          "base_uri": "https://localhost:8080/"
        },
        "id": "Q7Vq5XmokGsr",
        "outputId": "3424d880-283b-444d-814a-c0e0967c87e9"
      },
      "outputs": [
        {
          "output_type": "stream",
          "name": "stdout",
          "text": [
            "The number is positive\n"
          ]
        }
      ],
      "source": [
        "num = 5\n",
        "\n",
        "if num > 0:\n",
        "    print(\"The number is positive\")\n",
        "else:\n",
        "    if num < 0:\n",
        "        print(\"The number is negative\")\n",
        "    else:\n",
        "        print(\"The numbe is zero\")"
      ]
    },
    {
      "cell_type": "code",
      "source": [
        "# Example 2 : Age classifier\n",
        "age = 35\n",
        "\n",
        "if age >= 60:\n",
        "    print(\"You are a senior citizen.\")\n",
        "else:\n",
        "    if age >= 18:\n",
        "        print(\"Your are an adult.\")\n",
        "    else:\n",
        "        print(\"You are a teenager.\")"
      ],
      "metadata": {
        "colab": {
          "base_uri": "https://localhost:8080/"
        },
        "id": "mf8AAw96k-b-",
        "outputId": "8a2ce1cc-c787-41ab-caf9-7c8fbfa82ba7"
      },
      "execution_count": null,
      "outputs": [
        {
          "output_type": "stream",
          "name": "stdout",
          "text": [
            "Your are an adult.\n"
          ]
        }
      ]
    },
    {
      "cell_type": "code",
      "source": [
        "<!--\n",
        "username = input(\"Admin\")\n",
        "password = input(\"123#\")\n",
        "\n",
        "if username == \"Admin\":\n",
        "    if password == \"password\":\n",
        "        print(\"Login successful! Welcome, admin.\")\n",
        "    elif password == \"12345:\"\n",
        "        print(\"Weak password. Please reset your password.\")\n",
        "    else:\n",
        "        print(\"Incorrect password. Please try again.\")\n",
        "else:\n",
        "    if username == \"guest\":\n",
        "        if password == \"guest\":\n",
        "            print(\"Login succesful! Welcome, guest.\")\n",
        "        else:\n",
        "            print(\"Incorrect password. Please try again.\")\n",
        "    else:\n",
        "        print(\"Unknown user. Please try again.\")\n",
        "-->"
      ],
      "metadata": {
        "colab": {
          "base_uri": "https://localhost:8080/",
          "height": 106
        },
        "id": "jyZzc3E6m8RW",
        "outputId": "af424c74-14fd-4daa-bb0a-b16a56d23819"
      },
      "execution_count": null,
      "outputs": [
        {
          "output_type": "error",
          "ename": "SyntaxError",
          "evalue": "invalid syntax (<ipython-input-4-8d5875a3be50>, line 1)",
          "traceback": [
            "\u001b[0;36m  File \u001b[0;32m\"<ipython-input-4-8d5875a3be50>\"\u001b[0;36m, line \u001b[0;32m1\u001b[0m\n\u001b[0;31m    <!--\u001b[0m\n\u001b[0m    ^\u001b[0m\n\u001b[0;31mSyntaxError\u001b[0m\u001b[0;31m:\u001b[0m invalid syntax\n"
          ]
        }
      ]
    },
    {
      "cell_type": "code",
      "source": [
        "# Fungsi untuk mengecek tahun kabisat\n",
        "def is_leap_year(year):\n",
        "    if (year % 4 == 0 and year % 100 != 0) or (year % 400 == 0):\n",
        "        return True\n",
        "    return False\n",
        "\n",
        "# Meminta input dari pengguna\n",
        "year_input = int(input(\"Masukkan tahun: \"))\n",
        "\n",
        "# Memeriksa apakah tahun tersebut kabisat\n",
        "if is_leap_year(year_input):\n",
        "    result = \"adalah tahun kabisat.\"\n",
        "else:\n",
        "    result = \"bukan tahun kabisat.\"\n",
        "\n",
        "# Menampilkan hasil\n",
        "print(f\"Tahun {year_input} {result}\")\n"
      ],
      "metadata": {
        "colab": {
          "base_uri": "https://localhost:8080/"
        },
        "id": "2Dtbrk44qR7F",
        "outputId": "36112756-a06b-4454-ecde-d3b7e8538b1d"
      },
      "execution_count": 9,
      "outputs": [
        {
          "output_type": "stream",
          "name": "stdout",
          "text": [
            "Masukkan tahun: 2022\n",
            "Tahun 2022 bukan tahun kabisat.\n"
          ]
        }
      ]
    },
    {
      "cell_type": "code",
      "source": [
        "angka1 = int(input(\"masukkan angka pertama: \"))\n",
        "angka2 = int(input(\"masukkan angka kedua: \"))\n",
        "angka3 = int(input(\"masukkan angka ketiga: \"))\n",
        "\n",
        "if angka1 >= angka2 and angka1 >= angka3:\n",
        "    angka_terbesar = angka1\n",
        "elif angka2 >= angka1 and angka2 >= angka3:\n",
        "    angka_terbesar = angka2\n",
        "else:\n",
        "    angka_terbesar = angka3\n",
        "\n",
        "print(f\"Angka terbesar di antara ketiga angka tersebut adalah: {angka_terbesar}\")"
      ],
      "metadata": {
        "colab": {
          "base_uri": "https://localhost:8080/"
        },
        "id": "6e3WXqYjuS09",
        "outputId": "9c0d4226-fb34-4c65-8c11-cac25a1a244a"
      },
      "execution_count": 1,
      "outputs": [
        {
          "output_type": "stream",
          "name": "stdout",
          "text": [
            "masukkan angka pertama: 3\n",
            "masukkan angka kedua: 5\n",
            "masukkan angka ketiga: 2\n",
            "Angka terbesar di antara ketiga angka tersebut adalah: 5\n"
          ]
        }
      ]
    },
    {
      "cell_type": "code",
      "source": [
        "# Meminta input dari pengguna\n",
        "total_belanja = int(input(\"Masukkan total belanja: \"))\n",
        "status_member = input(\"Apakah Anda member? (ya/tidak): \").lower()\n",
        "\n",
        "# Inisialisasi diskon\n",
        "diskon = 0\n",
        "\n",
        "# Mengecek diskon berdasarkan total belanja\n",
        "if total_belanja > 200000:\n",
        "    diskon = 4\n",
        "elif total_belanja > 100000:\n",
        "    diskon = 3\n",
        "\n",
        "# Menambahkan diskon untuk member\n",
        "if status_member == 'ya':\n",
        "    diskon += 2\n",
        "\n",
        "# Menghitung total yang harus dibayarkan\n",
        "jumlah_diskon = (diskon / 100) * total_belanja\n",
        "total_bayar = total_belanja - jumlah_diskon\n",
        "\n",
        "# Menampilkan hasil\n",
        "print(f\"Total belanja: {total_belanja}\")\n",
        "print(f\"Diskon yang didapat: {diskon}%\")\n",
        "print(f\"Jumlah yang harus dibayarkan: {total_bayar}\")"
      ],
      "metadata": {
        "id": "ZHpWdp_IwyOp",
        "colab": {
          "base_uri": "https://localhost:8080/"
        },
        "outputId": "f6153c74-3222-498f-8560-c9ef79e95ea9"
      },
      "execution_count": 1,
      "outputs": [
        {
          "output_type": "stream",
          "name": "stdout",
          "text": [
            "Masukkan total belanja: 230000\n",
            "Apakah Anda member? (ya/tidak): ya\n",
            "Total belanja: 230000\n",
            "Diskon yang didapat: 6%\n",
            "Jumlah yang harus dibayarkan: 216200.0\n"
          ]
        }
      ]
    },
    {
      "cell_type": "code",
      "source": [
        "# Weekly e xercise 3\n",
        "# Membuat kode program untuk menghitung jumlah yang harus dibayarkan\n",
        "\n",
        "jenis = input(\"jenis konsumen : \")\n",
        "belanja = int(input(\"Total belanja : \"))\n",
        "\n",
        "if belanja > 100.000:\n",
        "  diskon = 0.03\n",
        "  if jenis == \"member\":\n",
        "    diskon += 0.02\n",
        "elif belanja > 200.000:\n",
        "  diskon = 0.04\n",
        "  if jenis == \"member\":\n",
        "    diskon += 0.02\n",
        "\n",
        "totalbelanja = belanja-belanja*diskon\n",
        "print(f\"Total yang harus dibayarkan : Rp{totalbelanja: 2f}\")"
      ],
      "metadata": {
        "colab": {
          "base_uri": "https://localhost:8080/"
        },
        "id": "k8erA-VU-ArZ",
        "outputId": "d448ed12-94d9-4dd5-9e75-2997cbea7352"
      },
      "execution_count": 2,
      "outputs": [
        {
          "output_type": "stream",
          "name": "stdout",
          "text": [
            "jenis konsumen : non member\n",
            "Total belanja : 230000\n",
            "Total yang harus dibayarkan : Rp 223100.000000\n"
          ]
        }
      ]
    },
    {
      "cell_type": "code",
      "source": [
        "# Weekly Exercise 4\n",
        "\n",
        "username = input(\"masukkan username: \")\n",
        "email = input(\"masukkan email: \")\n",
        "password = input(\"masukkan password: \")\n",
        "\n",
        "if len(username) == 0:\n",
        "    print(\"username tidak boleh kosong\")\n",
        "else:\n",
        "    if \"@\" not in email:\n",
        "        print(\"password harus memiliki minimal 8 karakter\")\n",
        "    else:\n",
        "        print(\"Registrasi berhasil\")\n",
        "        print(\"username:\", username)\n",
        "        print(\"email:\", email)\n",
        "        print(\"password:\", password)"
      ],
      "metadata": {
        "colab": {
          "base_uri": "https://localhost:8080/"
        },
        "id": "DS5lil6p_8zi",
        "outputId": "d767846e-9693-4392-d1e5-3f65ca73b706"
      },
      "execution_count": 1,
      "outputs": [
        {
          "output_type": "stream",
          "name": "stdout",
          "text": [
            "masukkan username: kartika\n",
            "masukkan email: k622161@gmail.com\n",
            "masukkan password: Helloworldprint\n",
            "Registrasi berhasil\n",
            "username: kartika\n",
            "email: k622161@gmail.com\n",
            "password: Helloworldprint\n"
          ]
        }
      ]
    }
  ]
}