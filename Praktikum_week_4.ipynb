{
  "nbformat": 4,
  "nbformat_minor": 0,
  "metadata": {
    "colab": {
      "provenance": []
    },
    "kernelspec": {
      "name": "python3",
      "display_name": "Python 3"
    },
    "language_info": {
      "name": "python"
    }
  },
  "cells": [
    {
      "cell_type": "code",
      "execution_count": null,
      "metadata": {
        "colab": {
          "base_uri": "https://localhost:8080/"
        },
        "id": "nZz-GVQzkxqY",
        "outputId": "695fd4d1-7331-4106-c440-1490aeb346c7"
      },
      "outputs": [
        {
          "output_type": "execute_result",
          "data": {
            "text/plain": [
              "False"
            ]
          },
          "metadata": {},
          "execution_count": 1
        }
      ],
      "source": [
        "# Condition Equal\n",
        "\n",
        "a = 5\n",
        "a == 6"
      ]
    },
    {
      "cell_type": "code",
      "source": [
        "# Greater than sign\n",
        "\n",
        "i = 6\n",
        "i > 5"
      ],
      "metadata": {
        "colab": {
          "base_uri": "https://localhost:8080/"
        },
        "id": "vS4NzpzBlhFH",
        "outputId": "51ef9746-e85b-46c8-b7b8-27888015d54c"
      },
      "execution_count": null,
      "outputs": [
        {
          "output_type": "execute_result",
          "data": {
            "text/plain": [
              "True"
            ]
          },
          "metadata": {},
          "execution_count": 2
        }
      ]
    },
    {
      "cell_type": "code",
      "source": [
        "# Greater than sign\n",
        "\n",
        "i = 2\n",
        "i > 5"
      ],
      "metadata": {
        "colab": {
          "base_uri": "https://localhost:8080/"
        },
        "id": "LwpnC4gMlxTH",
        "outputId": "5eaea5a8-ca61-48f0-e5eb-caf8a655c1be"
      },
      "execution_count": null,
      "outputs": [
        {
          "output_type": "execute_result",
          "data": {
            "text/plain": [
              "False"
            ]
          },
          "metadata": {},
          "execution_count": 3
        }
      ]
    },
    {
      "cell_type": "code",
      "source": [
        "# Inequality Sign\n",
        "\n",
        "i = 2\n",
        "i != 6"
      ],
      "metadata": {
        "colab": {
          "base_uri": "https://localhost:8080/"
        },
        "id": "hoySAQ7zl_Fe",
        "outputId": "40972949-8116-4465-a150-c57d3e97fcb9"
      },
      "execution_count": null,
      "outputs": [
        {
          "output_type": "execute_result",
          "data": {
            "text/plain": [
              "True"
            ]
          },
          "metadata": {},
          "execution_count": 4
        }
      ]
    },
    {
      "cell_type": "code",
      "source": [
        "# Inequality Sign\n",
        "\n",
        "i = 6\n",
        "i != 6"
      ],
      "metadata": {
        "colab": {
          "base_uri": "https://localhost:8080/"
        },
        "id": "3ZHfM6_RmMeP",
        "outputId": "294b8664-c08f-42dc-f17c-e1c469fcc8e0"
      },
      "execution_count": null,
      "outputs": [
        {
          "output_type": "execute_result",
          "data": {
            "text/plain": [
              "False"
            ]
          },
          "metadata": {},
          "execution_count": 5
        }
      ]
    },
    {
      "cell_type": "code",
      "source": [
        "# Use Equality sign to compare the strings\n",
        "\n",
        "\"ACDC\" == \"Michael Jackson\""
      ],
      "metadata": {
        "id": "9m-0xJU2maYe",
        "colab": {
          "base_uri": "https://localhost:8080/"
        },
        "outputId": "9f25783b-8a07-4017-ea83-b8c4e9b086d6"
      },
      "execution_count": null,
      "outputs": [
        {
          "output_type": "execute_result",
          "data": {
            "text/plain": [
              "False"
            ]
          },
          "metadata": {},
          "execution_count": 6
        }
      ]
    },
    {
      "cell_type": "code",
      "source": [
        "# Use Inequality sign to compare the strings\n",
        "\n",
        "\"ACDC\" != \"Michael Jackson\""
      ],
      "metadata": {
        "colab": {
          "base_uri": "https://localhost:8080/"
        },
        "id": "5YTOSyLem2rN",
        "outputId": "28b548fe-c15c-4292-a7be-6a5d269a2965"
      },
      "execution_count": null,
      "outputs": [
        {
          "output_type": "execute_result",
          "data": {
            "text/plain": [
              "True"
            ]
          },
          "metadata": {},
          "execution_count": 7
        }
      ]
    },
    {
      "cell_type": "code",
      "source": [
        "# Compare characters\n",
        "\n",
        "'B' > 'A'"
      ],
      "metadata": {
        "colab": {
          "base_uri": "https://localhost:8080/"
        },
        "id": "Q15L4NcmnGdW",
        "outputId": "4e71ead2-9b46-432e-8289-d8437b176588"
      },
      "execution_count": null,
      "outputs": [
        {
          "output_type": "execute_result",
          "data": {
            "text/plain": [
              "True"
            ]
          },
          "metadata": {},
          "execution_count": 8
        }
      ]
    },
    {
      "cell_type": "code",
      "source": [
        "# Compare characters\n",
        "\n",
        "'BA' > 'AB'"
      ],
      "metadata": {
        "colab": {
          "base_uri": "https://localhost:8080/"
        },
        "id": "WLmqQROtnOj-",
        "outputId": "31e03f60-451c-47d5-ba57-e4d3a545e9a6"
      },
      "execution_count": null,
      "outputs": [
        {
          "output_type": "execute_result",
          "data": {
            "text/plain": [
              "True"
            ]
          },
          "metadata": {},
          "execution_count": 9
        }
      ]
    },
    {
      "cell_type": "code",
      "source": [
        "\"ba\" >= 'ba'"
      ],
      "metadata": {
        "colab": {
          "base_uri": "https://localhost:8080/"
        },
        "id": "64g-n17fnVQf",
        "outputId": "e6df1cc8-60fe-441c-9dbb-d6624ea77194"
      },
      "execution_count": null,
      "outputs": [
        {
          "output_type": "execute_result",
          "data": {
            "text/plain": [
              "True"
            ]
          },
          "metadata": {},
          "execution_count": 10
        }
      ]
    },
    {
      "cell_type": "code",
      "source": [
        "# If statement example\n",
        "\n",
        "#age = 19\n",
        "age = 18\n",
        "\n",
        "#expression that can be true or false\n",
        "if age > 18:\n",
        "\n",
        "    #whithin an indent, we have the expression that is run if the condition is true\n",
        "    print(\"you can enter\")\n",
        "\n",
        "#The statement after the if statement will run regardless if the condition is true or false\n",
        "print(\"move on\")"
      ],
      "metadata": {
        "colab": {
          "base_uri": "https://localhost:8080/"
        },
        "id": "mp73OtY4nZSP",
        "outputId": "690ef7bc-3f6f-4aff-802a-a7cb2e217ddd"
      },
      "execution_count": null,
      "outputs": [
        {
          "output_type": "stream",
          "name": "stdout",
          "text": [
            "move on\n"
          ]
        }
      ]
    },
    {
      "cell_type": "code",
      "source": [
        "# Else statement example\n",
        "\n",
        "#age =17\n",
        "age = 19\n",
        "\n",
        "if age > 18:\n",
        "    print(\"you can enter\")\n",
        "else :\n",
        "    print(\"go see Meat Loaf\")\n",
        "    #print(\"move on\")\n",
        "\n",
        "print(\"move on\")"
      ],
      "metadata": {
        "colab": {
          "base_uri": "https://localhost:8080/"
        },
        "id": "FB3L7FNuoNIP",
        "outputId": "635c5774-c8c9-4410-8b6e-bf3ae7b6fbc7"
      },
      "execution_count": null,
      "outputs": [
        {
          "output_type": "stream",
          "name": "stdout",
          "text": [
            "you can enter\n",
            "move on\n"
          ]
        }
      ]
    },
    {
      "cell_type": "code",
      "source": [
        "# Elif statement example\n",
        "\n",
        "age = 18\n",
        "\n",
        "if age > 18:\n",
        "    print(\"you can enter\")\n",
        "elif age == 18:\n",
        "    print(\"go see pink Floyd\")\n",
        "else :\n",
        "    print(\"go see Meat Loaf\")\n",
        "\n",
        "print(\"move on\")"
      ],
      "metadata": {
        "colab": {
          "base_uri": "https://localhost:8080/"
        },
        "id": "ETNzbnddouxO",
        "outputId": "d3fdef7d-9a05-4bf8-e9d7-8ca210b622c3"
      },
      "execution_count": null,
      "outputs": [
        {
          "output_type": "stream",
          "name": "stdout",
          "text": [
            "go see pink Floyd\n",
            "move on\n"
          ]
        }
      ]
    },
    {
      "cell_type": "code",
      "source": [
        "# Condition statement example\n",
        "\n",
        "album_year = 1983\n",
        "#album_year = 1970\n",
        "\n",
        "if album_year > 1980:\n",
        "    print(\"Album year is greater than 1980\")\n",
        "\n",
        "print('do something. .')"
      ],
      "metadata": {
        "colab": {
          "base_uri": "https://localhost:8080/"
        },
        "id": "0_6hlFfWpm5e",
        "outputId": "9f99eb30-e196-4901-94fe-5452d8b30e06"
      },
      "execution_count": null,
      "outputs": [
        {
          "output_type": "stream",
          "name": "stdout",
          "text": [
            "Album year is greater than 1980\n",
            "do something. .\n"
          ]
        }
      ]
    },
    {
      "cell_type": "code",
      "source": [
        "# Condition statement example\n",
        "\n",
        "#album_year = 1983\n",
        "album_year = 1970\n",
        "\n",
        "if album_year > 1980:\n",
        "    print(\"Album year is greater than 1980\")\n",
        "else:\n",
        "    print(\"less than 1980\")\n",
        "\n",
        "print('do something. .')"
      ],
      "metadata": {
        "colab": {
          "base_uri": "https://localhost:8080/"
        },
        "id": "CW2cAABRqCXn",
        "outputId": "4743e3f9-9f87-4293-836c-53826a3bd0fb"
      },
      "execution_count": null,
      "outputs": [
        {
          "output_type": "stream",
          "name": "stdout",
          "text": [
            "less than 1980\n",
            "do something. .\n"
          ]
        }
      ]
    },
    {
      "cell_type": "code",
      "source": [
        "# Condition statement example\n",
        "\n",
        "album_year = 1980\n",
        "\n",
        "if(album_year) > 1979 and (album_year < 1990):\n",
        "    print (\"Album year was in between 1980 and 1989\")\n",
        "\n",
        "print(\"\")\n",
        "print(\"Do Stuff. .\")"
      ],
      "metadata": {
        "colab": {
          "base_uri": "https://localhost:8080/"
        },
        "id": "QntIXlPirJbe",
        "outputId": "3a635d56-9241-4e34-9b99-a9289b941435"
      },
      "execution_count": null,
      "outputs": [
        {
          "output_type": "stream",
          "name": "stdout",
          "text": [
            "Album year was in between 1980 and 1989\n",
            "\n",
            "Do Stuff. .\n"
          ]
        }
      ]
    },
    {
      "cell_type": "code",
      "source": [
        "# Conditition statement example\n",
        "\n",
        "album_year = 1978\n",
        "\n",
        "if(album_year < 1980) or (album_year > 1989):\n",
        "    print (\"Album was not made in the 1980's\")\n",
        "else:\n",
        "    print(\"The ALbum was made in the 1980\")"
      ],
      "metadata": {
        "colab": {
          "base_uri": "https://localhost:8080/"
        },
        "id": "FZ1DCzQkryCr",
        "outputId": "e200eef8-f83e-4ffd-d093-1730e1f3fab6"
      },
      "execution_count": null,
      "outputs": [
        {
          "output_type": "stream",
          "name": "stdout",
          "text": [
            "Album was not made in the 1980's\n"
          ]
        }
      ]
    },
    {
      "cell_type": "code",
      "source": [
        "# Condition statement example\n",
        "\n",
        "album_year = 1984\n",
        "\n",
        "if not (album_year == '1984'):\n",
        "    print (\"Album year is not 1984\")"
      ],
      "metadata": {
        "colab": {
          "base_uri": "https://localhost:8080/"
        },
        "id": "Lzg8_rPwtFJf",
        "outputId": "9c435bec-93a4-42fa-f5fa-70bbb3a9333f"
      },
      "execution_count": null,
      "outputs": [
        {
          "output_type": "stream",
          "name": "stdout",
          "text": [
            "Album year is not 1984\n"
          ]
        }
      ]
    },
    {
      "cell_type": "code",
      "source": [
        "# Write your code below and press Shift+Enter to execute"
      ],
      "metadata": {
        "id": "5n_luGPBtWvN"
      },
      "execution_count": null,
      "outputs": []
    },
    {
      "cell_type": "code",
      "source": [
        "# Write your code below and press Shift+Enter to execute"
      ],
      "metadata": {
        "id": "Oe4-OfQWtj3k"
      },
      "execution_count": null,
      "outputs": []
    },
    {
      "cell_type": "code",
      "source": [
        "# Write your code below and press Shift+Enter to execute"
      ],
      "metadata": {
        "id": "Kq7Y-uU8tzKT"
      },
      "execution_count": null,
      "outputs": []
    },
    {
      "cell_type": "code",
      "source": [
        "print ('umur minimal 17 sudah boleh membuat SIM')\n",
        "print('')\n",
        "age = int(input('masukan umur anda : '))\n",
        "if age<17:\n",
        "    print ('tidak boleh membuat SIM')\n",
        "else:\n",
        "    print ('sudah boleh membuat sim')"
      ],
      "metadata": {
        "colab": {
          "base_uri": "https://localhost:8080/"
        },
        "id": "4HppMENhwZ9z",
        "outputId": "aa5a3697-5470-438f-84a9-d1619b16e6e1"
      },
      "execution_count": 2,
      "outputs": [
        {
          "output_type": "stream",
          "name": "stdout",
          "text": [
            "umur minimal 17 sudah boleh membuat SIM\n",
            "\n",
            "masukan umur anda : 19\n",
            "sudah boleh membuat sim\n"
          ]
        }
      ]
    },
    {
      "cell_type": "code",
      "source": [
        "nil = int(input('Enter your Grade:'))\n",
        "if nil >=90:\n",
        "    print(\"Grade = A\")\n",
        "elif nil >=80:\n",
        "    print(\"Grade = B+\")\n",
        "elif nil >=70:\n",
        "    print(\"Grade = B\")\n",
        "elif nil >=60:\n",
        "    print(\"Grade = C+\")\n",
        "elif nil >= 50:\n",
        "    print(\"Grade = C\")\n",
        "elif nil >= 40:\n",
        "    print(\"Grade = D\")\n",
        "else:\n",
        "    print(\"Grade = E\")"
      ],
      "metadata": {
        "colab": {
          "base_uri": "https://localhost:8080/"
        },
        "id": "E5gfHODuxzif",
        "outputId": "d3c79ecc-b72c-43b9-b709-f21f547c3a55"
      },
      "execution_count": 7,
      "outputs": [
        {
          "output_type": "stream",
          "name": "stdout",
          "text": [
            "Enter your Grade:78\n",
            "Grade = B\n"
          ]
        }
      ]
    },
    {
      "cell_type": "code",
      "source": [
        "nilai = float(input(\"Enter your Grade \"))\n",
        "if nilai >=80.00 and (nilai)<=100:\n",
        "    print(\"Grade A\")\n",
        "elif nilai >=77.50 and (nilai)<=79.99:\n",
        "    print (\"Grade A-\")\n",
        "elif nilai >=75.00 and (nilai)<=77.49:\n",
        "    print (\"Grade A/B\")\n",
        "elif nilai >=72.50 and (nilai)<=74.99:\n",
        "    print (\"Grade B+\")\n",
        "elif nilai >=70.00 and (nilai)<=72.49:\n",
        "    print (\"Grade B\")\n",
        "elif nilai >=67.50 and (nilai)<=69.99:\n",
        "    print (\"Grade B-\")\n",
        "elif nilai >=65.00 and (nilai)<=67.49:\n",
        "    print (\"Grade B/C\")\n",
        "elif nilai >=62.50 and (nilai)<=64.99:\n",
        "    print (\"Grade C+\")\n",
        "elif nilai >=60.00 and (nilai)<=62.49:\n",
        "    print (\"Grade C\")\n",
        "elif nilai >=55.00 and (nilai)<=59.99:\n",
        "    print (\"Grade C-\")\n",
        "elif nilai >=50.00 and (nilai)<=54.99:\n",
        "    print (\"Grade C/D\")\n",
        "elif nilai >=45.00 and (nilai)<=49.99:\n",
        "    print (\"Grade D+\")\n",
        "elif nilai >=40.00 and (nilai)<=44.99:\n",
        "    print (\"Grade D\")\n",
        "else:\n",
        "    print (\"Grade E\")"
      ],
      "metadata": {
        "colab": {
          "base_uri": "https://localhost:8080/"
        },
        "id": "GCgho-1A1uzP",
        "outputId": "d992ca86-2a65-4f96-f32e-4d7f9b930866"
      },
      "execution_count": 9,
      "outputs": [
        {
          "output_type": "stream",
          "name": "stdout",
          "text": [
            "Enter your Grade 78.80\n",
            "Grade A-\n"
          ]
        }
      ]
    }
  ]
}