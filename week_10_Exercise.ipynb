{
  "nbformat": 4,
  "nbformat_minor": 0,
  "metadata": {
    "colab": {
      "provenance": []
    },
    "kernelspec": {
      "name": "python3",
      "display_name": "Python 3"
    },
    "language_info": {
      "name": "python"
    }
  },
  "cells": [
    {
      "cell_type": "code",
      "execution_count": null,
      "metadata": {
        "colab": {
          "base_uri": "https://localhost:8080/"
        },
        "id": "kRTPa8NQ2wdl",
        "outputId": "8c090538-6d25-483a-bb4a-ef712d197293"
      },
      "outputs": [
        {
          "output_type": "stream",
          "name": "stdout",
          "text": [
            "Hello from a function\n"
          ]
        }
      ],
      "source": [
        "def my_function():\n",
        "  print(\"Hello from a function\")\n",
        "my_function()"
      ]
    },
    {
      "cell_type": "code",
      "source": [
        "def my_function(fname):\n",
        "  print(fname + \" Sitohang\")\n",
        "\n",
        "my_function(\"Toha\")\n",
        "my_function(\"Tohir\")\n",
        "my_function(\"Tobi\")"
      ],
      "metadata": {
        "colab": {
          "base_uri": "https://localhost:8080/"
        },
        "id": "UXTwEstv3FuW",
        "outputId": "6ff055d5-e7bb-4a92-c13a-c80da5043b90"
      },
      "execution_count": null,
      "outputs": [
        {
          "output_type": "stream",
          "name": "stdout",
          "text": [
            "Toha Sitohang\n",
            "Tohir Sitohang\n",
            "Tobi Sitohang\n"
          ]
        }
      ]
    },
    {
      "cell_type": "code",
      "source": [
        "#This function expects 2 arguments, and gets 2 arguments:\n",
        "def my_function(fname, lname):\n",
        "  print(fname + \" \" + lname)\n",
        "\n",
        "my_function(\"Toha\", \"Sitohang\")"
      ],
      "metadata": {
        "colab": {
          "base_uri": "https://localhost:8080/"
        },
        "id": "WYukjjlP3n2n",
        "outputId": "b7e94fc3-55c8-4b2a-c465-22968c19cb57"
      },
      "execution_count": null,
      "outputs": [
        {
          "output_type": "stream",
          "name": "stdout",
          "text": [
            "Toha Sitohang\n"
          ]
        }
      ]
    },
    {
      "cell_type": "code",
      "source": [
        "#This function expects 2 arguments, but gets only 1:\n",
        "def my_function(fname, lname):\n",
        "  print(fname + \" \" + lname)\n",
        "\n",
        "my_function(\"Surip\")"
      ],
      "metadata": {
        "colab": {
          "base_uri": "https://localhost:8080/",
          "height": 176
        },
        "id": "868UVk4R387v",
        "outputId": "bc1cc162-40d1-4be2-c9a8-294a2c857f88"
      },
      "execution_count": null,
      "outputs": [
        {
          "output_type": "error",
          "ename": "TypeError",
          "evalue": "my_function() missing 1 required positional argument: 'lname'",
          "traceback": [
            "\u001b[0;31m---------------------------------------------------------------------------\u001b[0m",
            "\u001b[0;31mTypeError\u001b[0m                                 Traceback (most recent call last)",
            "\u001b[0;32m<ipython-input-4-2a8f743861d0>\u001b[0m in \u001b[0;36m<cell line: 5>\u001b[0;34m()\u001b[0m\n\u001b[1;32m      3\u001b[0m   \u001b[0mprint\u001b[0m\u001b[0;34m(\u001b[0m\u001b[0mfname\u001b[0m \u001b[0;34m+\u001b[0m \u001b[0;34m\" \"\u001b[0m \u001b[0;34m+\u001b[0m \u001b[0mlname\u001b[0m\u001b[0;34m)\u001b[0m\u001b[0;34m\u001b[0m\u001b[0;34m\u001b[0m\u001b[0m\n\u001b[1;32m      4\u001b[0m \u001b[0;34m\u001b[0m\u001b[0m\n\u001b[0;32m----> 5\u001b[0;31m \u001b[0mmy_function\u001b[0m\u001b[0;34m(\u001b[0m\u001b[0;34m\"Surip\"\u001b[0m\u001b[0;34m)\u001b[0m\u001b[0;34m\u001b[0m\u001b[0;34m\u001b[0m\u001b[0m\n\u001b[0m",
            "\u001b[0;31mTypeError\u001b[0m: my_function() missing 1 required positional argument: 'lname'"
          ]
        }
      ]
    },
    {
      "cell_type": "code",
      "source": [
        "#If the number of arguments is unknown, add a * before the parameter name:\n",
        "\n",
        "def my_function(*kids):\n",
        "  print(\"The youngest child is \" + kids[2])\n",
        "\n",
        "my_function(\"Lekyung\", \"Jimin\", \"Tukimin\")\n"
      ],
      "metadata": {
        "colab": {
          "base_uri": "https://localhost:8080/"
        },
        "id": "IAA1kLIG4W5F",
        "outputId": "648c5197-5ef2-42c2-b713-7bf9d77d18ec"
      },
      "execution_count": null,
      "outputs": [
        {
          "output_type": "stream",
          "name": "stdout",
          "text": [
            "The youngest child is Tukimin\n"
          ]
        }
      ]
    },
    {
      "cell_type": "code",
      "source": [
        "def my_function(child3, child2, child1):\n",
        "  print(\"The youngest child is \" + child3)\n",
        "\n",
        "my_function(child1 = \"Lekyung\", child2 = \"Tukimin\", child3 = \"Jimin\")"
      ],
      "metadata": {
        "colab": {
          "base_uri": "https://localhost:8080/"
        },
        "id": "_5ybHWZ_4t3V",
        "outputId": "eaa905b1-5342-4354-c3ea-dff6cf3ba53a"
      },
      "execution_count": null,
      "outputs": [
        {
          "output_type": "stream",
          "name": "stdout",
          "text": [
            "The youngest child is Jimin\n"
          ]
        }
      ]
    },
    {
      "cell_type": "code",
      "source": [
        "#If the number of keyword arguments is unknown, add a double ** before the parameter name:\n",
        "def my_function(**kid):\n",
        "  print(\"His last name is \" + kid[\"lname\"])\n",
        "\n",
        "my_function(fname = \"Thanos\", lname = \"ireng Man\")"
      ],
      "metadata": {
        "colab": {
          "base_uri": "https://localhost:8080/"
        },
        "id": "KqG9kFZi4wX1",
        "outputId": "feb53477-07ad-472d-8ccb-1f6252dbf206"
      },
      "execution_count": null,
      "outputs": [
        {
          "output_type": "stream",
          "name": "stdout",
          "text": [
            "His last name is ireng Man\n"
          ]
        }
      ]
    },
    {
      "cell_type": "code",
      "source": [
        "def my_function(country = \"Indonesia\"):\n",
        "  print(\"I am from \" + country)\n",
        "\n",
        "my_function(\"UEA\")\n",
        "my_function(\"Arab Saudi\")\n",
        "my_function()\n",
        "my_function(\"Malaysia\")"
      ],
      "metadata": {
        "colab": {
          "base_uri": "https://localhost:8080/"
        },
        "id": "u8QFeVxB4yW1",
        "outputId": "a4357e31-0323-4039-b06a-a525b65d4c20"
      },
      "execution_count": null,
      "outputs": [
        {
          "output_type": "stream",
          "name": "stdout",
          "text": [
            "I am from UEA\n",
            "I am from Arab Saudi\n",
            "I am from Indonesia\n",
            "I am from Malaysia\n"
          ]
        }
      ]
    },
    {
      "cell_type": "code",
      "source": [
        "def my_function(food):\n",
        "  for x in food:\n",
        "    print(x)\n",
        "\n",
        "fruits = [\"apple\", \"banana\", \"cherry\"]\n",
        "\n",
        "my_function(fruits)"
      ],
      "metadata": {
        "colab": {
          "base_uri": "https://localhost:8080/"
        },
        "id": "HknqZEN540dd",
        "outputId": "15b472ac-9af8-471c-98f8-497ef02422b8"
      },
      "execution_count": null,
      "outputs": [
        {
          "output_type": "stream",
          "name": "stdout",
          "text": [
            "apple\n",
            "banana\n",
            "cherry\n"
          ]
        }
      ]
    },
    {
      "cell_type": "code",
      "source": [
        "def my_function(x):\n",
        "  return 5 * x\n",
        "\n",
        "print(my_function(3))\n",
        "print(my_function(5))\n",
        "print(my_function(9))"
      ],
      "metadata": {
        "colab": {
          "base_uri": "https://localhost:8080/"
        },
        "id": "6qVT9QIc42kt",
        "outputId": "f69cddfd-80a8-4a87-d1c8-406dc86544d7"
      },
      "execution_count": null,
      "outputs": [
        {
          "output_type": "stream",
          "name": "stdout",
          "text": [
            "15\n",
            "25\n",
            "45\n"
          ]
        }
      ]
    },
    {
      "cell_type": "code",
      "source": [
        "def myfunction():\n",
        "  pass"
      ],
      "metadata": {
        "id": "VYQ6Wxb-44at"
      },
      "execution_count": null,
      "outputs": []
    },
    {
      "cell_type": "code",
      "source": [
        "#Recursion Example\n",
        "def tri_recursion(k):\n",
        "  if(k > 0):\n",
        "    result = k + tri_recursion(k - 1)\n",
        "    print(result)\n",
        "  else:\n",
        "    result = 0\n",
        "  return result\n",
        "\n",
        "print(\"\\n\\nRecursion Example Results\")\n",
        "tri_recursion(1)"
      ],
      "metadata": {
        "colab": {
          "base_uri": "https://localhost:8080/"
        },
        "id": "dG2dqPb146YV",
        "outputId": "23e3d960-ff87-4857-ade5-fb7285d63d6f"
      },
      "execution_count": null,
      "outputs": [
        {
          "output_type": "stream",
          "name": "stdout",
          "text": [
            "\n",
            "\n",
            "Recursion Example Results\n",
            "1\n"
          ]
        },
        {
          "output_type": "execute_result",
          "data": {
            "text/plain": [
              "1"
            ]
          },
          "metadata": {},
          "execution_count": 12
        }
      ]
    },
    {
      "cell_type": "code",
      "source": [
        "# Write your code below and press Shift+Enter to execute\n",
        "def faktorial(x):\n",
        "    if x == 1:\n",
        "        return 1\n",
        "    else:\n",
        "        return (x * faktorial(x-1))\n",
        "\n",
        "faktorial(2)"
      ],
      "metadata": {
        "colab": {
          "base_uri": "https://localhost:8080/"
        },
        "id": "oQbcwa5G48M9",
        "outputId": "bbf31b14-5d27-4b19-f661-e60224bbb1e7"
      },
      "execution_count": null,
      "outputs": [
        {
          "output_type": "execute_result",
          "data": {
            "text/plain": [
              "2"
            ]
          },
          "metadata": {},
          "execution_count": 13
        }
      ]
    },
    {
      "cell_type": "code",
      "source": [
        "#WEEKLY EXERCISE 10 NO. 2\n",
        "import math\n",
        "\n",
        "def luas_lingkaran(jari_jari):\n",
        "  return math.pi * (jari_jari ** 2)\n",
        "\n",
        "def luas_persegi(sisi):\n",
        "  return sisi ** 2\n",
        "\n",
        "def luas_segitiga(alas, tinggi):\n",
        "  return 0,5 * alas * tinggi\n",
        "\n",
        "def main():\n",
        "  while True:\n",
        "      print(\"\\nKalkulator Luas Bangun Datar\")\n",
        "      print(\"No. 1 Luas Lingkaran\")\n",
        "      print(\"No. 2 Luas Persegi\")\n",
        "      print(\"No. 3 Luas Segitiga\")\n",
        "      print(\"No. 4 Keluar\")\n",
        "\n",
        "      choice = input(\"Pilih Kalkulasi (1-4): \")\n",
        "\n",
        "      if choice == '1':\n",
        "        jari_jari = int(input(\"Jari-jari lingkaran yang akan dihitung: \"))\n",
        "        print(f\"Luas lingkaran adalah: {luas_lingkaran(jari_jari)}\")\n",
        "      elif choice == '2':\n",
        "        sisi = int(input(\"Panjang alas segitiga yang akan dihitung: \"))\n",
        "        print(f\"Luas persegi adalah: {luas_persegi(sisi)}\")\n",
        "      elif choice == '3':\n",
        "        alas = int(input(\"Panjang alas segitiga yang akan dihitung: \"))\n",
        "        tinggi = int(input(\"Tinggi segitiga yang akan dihitung: \"))\n",
        "        print(f\"Luas segitiga adalah: {luas_segitiga(alas, tinggi)}\")\n",
        "      elif choice == '4':\n",
        "        print(\"Thank you! Program is complete.\")\n",
        "        break\n",
        "      else:\n",
        "        print(\"Invalid choice. Try Again\")\n",
        "\n",
        "if __name__ == \"__main__\":\n",
        "    main()"
      ],
      "metadata": {
        "id": "fiGSRA0Q4_V9",
        "colab": {
          "base_uri": "https://localhost:8080/"
        },
        "outputId": "5c619843-135d-41c9-87c3-119a69fc9470"
      },
      "execution_count": 2,
      "outputs": [
        {
          "output_type": "stream",
          "name": "stdout",
          "text": [
            "\n",
            "Kalkulator Luas Bangun Datar\n",
            "No. 1 Luas Lingkaran\n",
            "No. 2 Luas Persegi\n",
            "No. 3 Luas Segitiga\n",
            "No. 4 Keluar\n",
            "Pilih Kalkulasi (1-4): 1\n",
            "Jari-jari lingkaran yang akan dihitung: 4\n",
            "Luas lingkaran adalah: 50.26548245743669\n",
            "\n",
            "Kalkulator Luas Bangun Datar\n",
            "No. 1 Luas Lingkaran\n",
            "No. 2 Luas Persegi\n",
            "No. 3 Luas Segitiga\n",
            "No. 4 Keluar\n",
            "Pilih Kalkulasi (1-4): 4\n",
            "Thank you! Program is complete.\n"
          ]
        }
      ]
    },
    {
      "cell_type": "code",
      "source": [
        "# WEEKLY EXERCISE 10 NO. 1\n",
        "def faktorial (n):\n",
        "  if n == 0 or n == 1:\n",
        "    return 1\n",
        "  else:\n",
        "    return n * faktorial(n-1)\n",
        "\n",
        "def main():\n",
        "  try:\n",
        "    num = int(input(\"Enter a number: \"))\n",
        "    if num < 0:\n",
        "      print(\"Please enter a number: \")\n",
        "    else:\n",
        "      result = faktorial(num)\n",
        "      print(f\"Factorial from {num} is {result}.\")\n",
        "  except ValueError:\n",
        "    print(\"Invalid Input. Please enter a number.\")\n",
        "\n",
        "if __name__ == \"__main__\":\n",
        "    main()"
      ],
      "metadata": {
        "id": "tsDpHbPc-o58",
        "colab": {
          "base_uri": "https://localhost:8080/"
        },
        "outputId": "17547b65-7ae1-4bad-daa8-f3eb4d409a98"
      },
      "execution_count": 1,
      "outputs": [
        {
          "output_type": "stream",
          "name": "stdout",
          "text": [
            "Enter a number: 5\n",
            "Factorial from 5 is 120.\n"
          ]
        }
      ]
    },
    {
      "cell_type": "code",
      "source": [],
      "metadata": {
        "id": "MRjAAZtrFnut"
      },
      "execution_count": null,
      "outputs": []
    }
  ]
}