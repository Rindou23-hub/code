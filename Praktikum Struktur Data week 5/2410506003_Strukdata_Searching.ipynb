{
  "nbformat": 4,
  "nbformat_minor": 0,
  "metadata": {
    "colab": {
      "provenance": []
    },
    "kernelspec": {
      "name": "python3",
      "display_name": "Python 3"
    },
    "language_info": {
      "name": "python"
    }
  },
  "cells": [
    {
      "cell_type": "code",
      "source": [
        "import random\n",
        "import math\n",
        "from tabulate import tabulate  # Pastikan Anda telah menginstal tabulate dengan `pip install tabulate`\n",
        "\n",
        "def generate_sorted_list():\n",
        "    return sorted(random.sample(range(1, 1001), 100))\n",
        "\n",
        "def linear_search(arr, target):\n",
        "    comparisons = 0\n",
        "    for i in range(len(arr)):\n",
        "        comparisons += 1\n",
        "        if arr[i] == target:\n",
        "            return i, comparisons\n",
        "    return -1, comparisons\n",
        "\n",
        "def binary_search(arr, target):\n",
        "    left, right = 0, len(arr) - 1\n",
        "    comparisons = 0\n",
        "    while left <= right:\n",
        "        mid = (left + right) // 2\n",
        "        comparisons += 1\n",
        "        if arr[mid] == target:\n",
        "            return mid, comparisons\n",
        "        elif arr[mid] < target:\n",
        "            left = mid + 1\n",
        "        else:\n",
        "            right = mid - 1\n",
        "    return -1, comparisons\n",
        "\n",
        "def jump_search(arr, target):\n",
        "    n = len(arr)\n",
        "    step = int(math.sqrt(n))\n",
        "    prev, comparisons = 0, 0\n",
        "\n",
        "    while prev < n and arr[min(n - 1, prev + step)] < target:\n",
        "        comparisons += 1\n",
        "        prev += step\n",
        "\n",
        "    for i in range(prev, min(prev + step, n)):\n",
        "        comparisons += 1\n",
        "        if arr[i] == target:\n",
        "            return i, comparisons\n",
        "    return -1, comparisons\n",
        "\n",
        "sorted_list = generate_sorted_list()\n",
        "\n",
        "target = sorted_list[len(sorted_list) // 2]\n",
        "\n",
        "lin_idx, lin_comp = linear_search(sorted_list, target)\n",
        "bin_idx, bin_comp = binary_search(sorted_list, target)\n",
        "jump_idx, jump_comp = jump_search(sorted_list, target)\n",
        "\n",
        "table = [\n",
        "    [\"Linear Search\", lin_idx, lin_comp],\n",
        "    [\"Binary Search\", bin_idx, bin_comp],\n",
        "    [\"Jump Search\", jump_idx, jump_comp]\n",
        "]\n",
        "\n",
        "print(f\"\\nTarget yang dicari: {target}\\n\")\n",
        "print(tabulate(table, headers=[\"Metode\", \"Index Ditemukan\", \"Jumlah Perbandingan\"], tablefmt=\"grid\"))\n",
        "\n"
      ],
      "metadata": {
        "colab": {
          "base_uri": "https://localhost:8080/"
        },
        "id": "NpVu7LgSap6u",
        "outputId": "2079064d-e69a-4cef-e66b-a415934c2272"
      },
      "execution_count": 3,
      "outputs": [
        {
          "output_type": "stream",
          "name": "stdout",
          "text": [
            "\n",
            "Target yang dicari: 510\n",
            "\n",
            "+---------------+-------------------+-----------------------+\n",
            "| Metode        |   Index Ditemukan |   Jumlah Perbandingan |\n",
            "+===============+===================+=======================+\n",
            "| Linear Search |                50 |                    51 |\n",
            "+---------------+-------------------+-----------------------+\n",
            "| Binary Search |                50 |                     6 |\n",
            "+---------------+-------------------+-----------------------+\n",
            "| Jump Search   |                -1 |                    14 |\n",
            "+---------------+-------------------+-----------------------+\n"
          ]
        }
      ]
    },
    {
      "cell_type": "code",
      "source": [],
      "metadata": {
        "id": "pCohnEcO9z8R"
      },
      "execution_count": null,
      "outputs": []
    }
  ]
}