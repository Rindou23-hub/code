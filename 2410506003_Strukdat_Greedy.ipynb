{
  "nbformat": 4,
  "nbformat_minor": 0,
  "metadata": {
    "colab": {
      "provenance": []
    },
    "kernelspec": {
      "name": "python3",
      "display_name": "Python 3"
    },
    "language_info": {
      "name": "python"
    }
  },
  "cells": [
    {
      "cell_type": "code",
      "execution_count": 10,
      "metadata": {
        "colab": {
          "base_uri": "https://localhost:8080/"
        },
        "id": "OQtLe9_dq7zN",
        "outputId": "c745874c-11be-4fee-8afd-22dfc38a7d22"
      },
      "outputs": [
        {
          "output_type": "stream",
          "name": "stdout",
          "text": [
            "Koin yang digunakan: [25, 25, 5, 1, 1]\n"
          ]
        }
      ],
      "source": [
        "def coin_change_greedy(amount, coins):\n",
        "    coins.sort(reverse=True)\n",
        "    result = []\n",
        "    for coin in coins:\n",
        "        while amount >= coin:\n",
        "            amount -= coin\n",
        "            result.append(coin)\n",
        "    return result\n",
        "\n",
        "# Contoh penggunaan\n",
        "amount = 57\n",
        "coins = [25, 10, 5, 1]\n",
        "change = coin_change_greedy(amount, coins)\n",
        "print(\"Koin yang digunakan:\", change)"
      ]
    },
    {
      "cell_type": "code",
      "source": [
        "def fractional_knapsack(items, capacity):\n",
        "    # items = list of tuples (value, weight)\n",
        "    items = sorted(items, key=lambda x: x[0]/x[1], reverse=True)\n",
        "    total_value = 0.0\n",
        "    for value, weight in items:\n",
        "        if capacity >= weight:\n",
        "            capacity -= weight\n",
        "            total_value += value\n",
        "        else:\n",
        "            total_value += value * (capacity / weight)\n",
        "            break\n",
        "    return total_value\n",
        "\n",
        "# Contoh penggunaan\n",
        "items = [ (60, 10), (100, 20), (120, 30) ] # (nilai, berat)\n",
        "capacity = 50\n",
        "max_value = fractional_knapsack(items, capacity)\n",
        "print(\"Nilai maksimum yang dapat dibawa:\", max_value)"
      ],
      "metadata": {
        "colab": {
          "base_uri": "https://localhost:8080/"
        },
        "id": "eDY0A0Awr9PQ",
        "outputId": "92649fe8-c7d5-47b3-9717-eb16dbf44532"
      },
      "execution_count": 3,
      "outputs": [
        {
          "output_type": "stream",
          "name": "stdout",
          "text": [
            "Nilai maksimum yang dapat dibawa: 240.0\n"
          ]
        }
      ]
    },
    {
      "cell_type": "code",
      "source": [
        "import heapq\n",
        "\n",
        "def prim_mst(graph, start):\n",
        "    visited = set()\n",
        "    min_heap = [(0, start)]\n",
        "    total_weight = 0\n",
        "\n",
        "    while min_heap:\n",
        "        weight, node = heapq.heappop(min_heap)\n",
        "        if node in visited:\n",
        "            continue\n",
        "        visited.add(node)\n",
        "        total_weight += weight\n",
        "        for neighbor, edge_weight in graph[node]:\n",
        "            if neighbor not in visited:\n",
        "                heapq.heappush(min_heap, (edge_weight, neighbor))\n",
        "    return total_weight\n",
        "\n",
        "# Representasi graf: adjacency list\n",
        "graph = {\n",
        "    'A': [('B', 2),  ('C', 3)],\n",
        "    'B': [('A', 2),  ('C', 1), ('D', 1)],\n",
        "    'C': [('A', 3),  ('B', 1), ('D', 4)],\n",
        "    'D': [('B', 1),  ('C', 4)]\n",
        "}\n",
        "\n",
        "print(\"Total bobot MST (Prim):\", prim_mst(graph, 'A'))"
      ],
      "metadata": {
        "colab": {
          "base_uri": "https://localhost:8080/"
        },
        "id": "w3SLHnVHtYfr",
        "outputId": "6c951406-bf2f-4e51-9812-05d6722267a5"
      },
      "execution_count": 5,
      "outputs": [
        {
          "output_type": "stream",
          "name": "stdout",
          "text": [
            "Total bobot MST (Prim): 4\n"
          ]
        }
      ]
    },
    {
      "cell_type": "code",
      "source": [
        "def kruskal_mst(edges, n_nodes):\n",
        "    parent = {i: i for i in range(n_nodes)}\n",
        "\n",
        "    def find(x):\n",
        "        while parent[x] != x:\n",
        "            x = parent[x]\n",
        "        return x\n",
        "\n",
        "    def union(x, y):\n",
        "        root_x = find(x)\n",
        "        root_y = find(y)\n",
        "        if root_x != root_y:\n",
        "            parent[root_y] = root_x\n",
        "            return True\n",
        "        return False\n",
        "\n",
        "    edges.sort(key=lambda x: x[2])\n",
        "    total_weight = 0\n",
        "    for u, v, weight in edges:\n",
        "        if union(u, v):\n",
        "            total_weight += weight\n",
        "    return total_weight\n",
        "\n",
        "# edges: (node1, node2, weight), nodes are represented by integers\n",
        "edges = [(0, 1, 2), (0, 2, 3), (1, 2, 1), (1, 3, 1), (2, 3, 4)]\n",
        "print(\"Total bobot MST (Kruskal):\", kruskal_mst(edges, 4))\n"
      ],
      "metadata": {
        "colab": {
          "base_uri": "https://localhost:8080/"
        },
        "id": "xH-_Yh1ywEEn",
        "outputId": "9f0883fd-a3ea-4948-9d2c-8d836cc08869"
      },
      "execution_count": 8,
      "outputs": [
        {
          "output_type": "stream",
          "name": "stdout",
          "text": [
            "Total bobot MST (Kruskal): 4\n"
          ]
        }
      ]
    },
    {
      "cell_type": "code",
      "source": [],
      "metadata": {
        "id": "3yETktOKx5s2"
      },
      "execution_count": null,
      "outputs": []
    }
  ]
}