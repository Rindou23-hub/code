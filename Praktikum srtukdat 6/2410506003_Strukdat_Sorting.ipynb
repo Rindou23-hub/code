{
  "nbformat": 4,
  "nbformat_minor": 0,
  "metadata": {
    "colab": {
      "provenance": []
    },
    "kernelspec": {
      "name": "python3",
      "display_name": "Python 3"
    },
    "language_info": {
      "name": "python"
    }
  },
  "cells": [
    {
      "cell_type": "code",
      "source": [
        "def merge_sort(arr, key):\n",
        "    if len(arr) > 1:\n",
        "        mid = len(arr) // 2\n",
        "        left_half = arr[:mid]\n",
        "        right_half = arr[mid:]\n",
        "\n",
        "        merge_sort(left_half, key)\n",
        "        merge_sort(right_half, key)\n",
        "\n",
        "        i = j = k = 0\n",
        "\n",
        "        while i < len(left_half) and j < len(right_half):\n",
        "            left_value = float(left_half[i][key]) if key == \"total\" else left_half[i][key]\n",
        "            right_value = float(right_half[j][key]) if key == \"total\" else right_half[j][key]\n",
        "\n",
        "            if left_value < right_value:\n",
        "                arr[k] = left_half[i]\n",
        "                i += 1\n",
        "            else:\n",
        "                arr[k] = right_half[j]\n",
        "                j += 1\n",
        "            k += 1\n",
        "\n",
        "        while i < len(left_half):\n",
        "            arr[k] = left_half[i]\n",
        "            i += 1\n",
        "            k += 1\n",
        "\n",
        "        while j < len(right_half):\n",
        "            arr[k] = right_half[j]\n",
        "            j += 1\n",
        "            k += 1\n",
        "\n",
        "# Contoh penggunaan\n",
        "data_nama = [\n",
        "    {\"nama\": \"Rita\"},\n",
        "    {\"nama\": \"Musa\"},\n",
        "    {\"nama\": \"Kartika\"}\n",
        "]\n",
        "data_umur = [\n",
        "    {\"umur\": \"25\"},\n",
        "    {\"umur\": \"19\"},\n",
        "    {\"umur\": \"35\"}\n",
        "]\n",
        "data_belanjaan = [\n",
        "    {\"total\": \"100.00\"},\n",
        "    {\"total\": \"25.00\"},\n",
        "    {\"total\": \"75.00\"}\n",
        "]\n",
        "\n",
        "merge_sort(data_nama, \"nama\")\n",
        "print(\"\\nData setelah sorting berdasarkan Nama (A-Z):\")\n",
        "for nama in data_nama:\n",
        "    print(nama)\n",
        "\n",
        "merge_sort(data_umur, \"umur\")\n",
        "print(\"\\nData setelah sorting berdasarkan Umur (Termuda - Tertua):\")\n",
        "for umur in data_umur:\n",
        "    print(umur)\n",
        "\n",
        "merge_sort(data_belanjaan, \"total\")\n",
        "print(\"\\nData setelah sorting berdasarkan Total Belanja (Terkecil - Terbesar):\")\n",
        "for total in data_belanjaan:\n",
        "    print(total)"
      ],
      "metadata": {
        "id": "RB-z3oMLmNTe",
        "colab": {
          "base_uri": "https://localhost:8080/"
        },
        "outputId": "e94ea927-0ef4-47b5-d17f-0c3f605ba481"
      },
      "execution_count": null,
      "outputs": [
        {
          "output_type": "stream",
          "name": "stdout",
          "text": [
            "\n",
            "Data setelah sorting berdasarkan Nama (A-Z):\n",
            "{'nama': 'Kartika'}\n",
            "{'nama': 'Musa'}\n",
            "{'nama': 'Rita'}\n",
            "\n",
            "Data setelah sorting berdasarkan Umur (Termuda - Tertua):\n",
            "{'umur': '19'}\n",
            "{'umur': '25'}\n",
            "{'umur': '35'}\n",
            "\n",
            "Data setelah sorting berdasarkan Total Belanja (Terkecil - Terbesar):\n",
            "{'total': '25.00'}\n",
            "{'total': '75.00'}\n",
            "{'total': '100.00'}\n"
          ]
        }
      ]
    },
    {
      "cell_type": "code",
      "source": [],
      "metadata": {
        "id": "YWjryz0Nw3Kw"
      },
      "execution_count": null,
      "outputs": []
    }
  ]
}