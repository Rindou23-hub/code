{
  "nbformat": 4,
  "nbformat_minor": 0,
  "metadata": {
    "colab": {
      "provenance": []
    },
    "kernelspec": {
      "name": "python3",
      "display_name": "Python 3"
    },
    "language_info": {
      "name": "python"
    }
  },
  "cells": [
    {
      "cell_type": "code",
      "source": [
        "# Graf tak berarah dengan 5 simpul dan 7 sisi\n",
        "graph = {\n",
        "    'A': ['B', 'C', 'D'],\n",
        "    'B': ['A', 'C', 'E'],\n",
        "    'C': ['A', 'B', 'E'],\n",
        "    'D': ['A', 'E'],\n",
        "    'E': ['B', 'C', 'D']\n",
        "}\n",
        "\n",
        "def print_graph(graph):\n",
        "    for node in graph:\n",
        "        print(f\"{node} -> {graph[node]}\")\n",
        "\n",
        "print(\"Graf:\")\n",
        "print_graph(graph)\n",
        "\n",
        "def bfs(graph, start):\n",
        "    visited = set()\n",
        "    queue = [start]\n",
        "\n",
        "    while queue:\n",
        "        node = queue.pop(0)\n",
        "        if node not in visited:\n",
        "            print(node, end=\" \")\n",
        "            visited.add(node)\n",
        "            queue.extend([neighbor for neighbor in graph[node] if neighbor not in visited])\n",
        "\n",
        "print(\"\\nbfs\")\n",
        "bfs(graph, 'A')\n",
        "\n",
        "def dfs(graph, start, visited=None):\n",
        "    if visited is None:\n",
        "        visited = set()\n",
        "\n",
        "    if start not in visited:\n",
        "        print(start, end=\" \")\n",
        "        visited.add(start)\n",
        "        for neighbor in graph[start]:\n",
        "            dfs(graph, neighbor, visited)\n",
        "\n",
        "print(\"\\ndfs\")\n",
        "dfs(graph, 'A')\n",
        "\n",
        "def bfs_list(graph, start):\n",
        "    visited = set()\n",
        "    queue = [start]\n",
        "    order = []\n",
        "\n",
        "    while queue:\n",
        "        node = queue.pop(0)\n",
        "        if node not in visited:\n",
        "            visited.add(node)\n",
        "            order.append(node)\n",
        "            queue.extend([neighbor for neighbor in graph[node] if neighbor not in visited])\n",
        "    return order\n",
        "\n",
        "print(\"\\nmod bfs\")\n",
        "print(bfs_list(graph, 'A'))\n",
        "\n",
        "def find_path(graph, start, end, path=None):\n",
        "    if path is None:\n",
        "        path = []\n",
        "    path.append(start)\n",
        "\n",
        "    if start == end:\n",
        "        return path\n",
        "    for neighbor in graph[start]:\n",
        "        if neighbor not in path:\n",
        "            new_path = find_path(graph, neighbor, end, path.copy())\n",
        "            if new_path:\n",
        "                return new_path\n",
        "    return None\n",
        "\n",
        "print(\"\\nfind path\")\n",
        "print(find_path(graph, 'A', 'E'))\n",
        "\n",
        "def is_connected(graph):\n",
        "    start = next(iter(graph))\n",
        "    visited = set()\n",
        "\n",
        "    def dfs_visit(node):\n",
        "        visited.add(node)\n",
        "        for neighbor in graph[node]:\n",
        "            if neighbor not in visited:\n",
        "                dfs_visit(neighbor)\n",
        "    dfs_visit(start)\n",
        "    return len(visited) == len(graph)\n",
        "\n",
        "print(\"\\nis connected\")\n",
        "print(is_connected(graph))\n"
      ],
      "metadata": {
        "colab": {
          "base_uri": "https://localhost:8080/"
        },
        "id": "RJ8ZNs036v6t",
        "outputId": "019c7c1a-7f94-4acb-bb11-bfae44691d61"
      },
      "execution_count": null,
      "outputs": [
        {
          "output_type": "stream",
          "name": "stdout",
          "text": [
            "Graf:\n",
            "A -> ['B', 'C', 'D']\n",
            "B -> ['A', 'C', 'E']\n",
            "C -> ['A', 'B', 'E']\n",
            "D -> ['A', 'E']\n",
            "E -> ['B', 'C', 'D']\n",
            "\n",
            "bfs\n",
            "A B C D E \n",
            "dfs\n",
            "A B C E D \n",
            "mod bfs\n",
            "['A', 'B', 'C', 'D', 'E']\n",
            "\n",
            "find path\n",
            "['A', 'B', 'C', 'E']\n",
            "\n",
            "is connected\n",
            "True\n"
          ]
        }
      ]
    },
    {
      "cell_type": "code",
      "source": [],
      "metadata": {
        "id": "V6WQwZ0KIYIY"
      },
      "execution_count": null,
      "outputs": []
    }
  ]
}