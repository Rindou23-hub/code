{
  "nbformat": 4,
  "nbformat_minor": 0,
  "metadata": {
    "colab": {
      "provenance": []
    },
    "kernelspec": {
      "name": "python3",
      "display_name": "Python 3"
    },
    "language_info": {
      "name": "python"
    }
  },
  "cells": [
    {
      "cell_type": "code",
      "execution_count": null,
      "metadata": {
        "id": "eYNEjt7geGn2"
      },
      "outputs": [],
      "source": []
    },
    {
      "cell_type": "markdown",
      "source": [
        "Say Hello to the world\n",
        "\n"
      ],
      "metadata": {
        "id": "eUhMwbypfaXx"
      }
    },
    {
      "cell_type": "code",
      "source": [
        "print (\"Hello world Python\")"
      ],
      "metadata": {
        "colab": {
          "base_uri": "https://localhost:8080/"
        },
        "id": "Fdv-uFnuf8zS",
        "outputId": "6ec5fe4a-714e-4306-fbbd-1cab7005aae7"
      },
      "execution_count": null,
      "outputs": [
        {
          "output_type": "stream",
          "name": "stdout",
          "text": [
            "Hello world Python\n"
          ]
        }
      ]
    },
    {
      "cell_type": "code",
      "source": [
        "print (\"Universitas Tidar\")"
      ],
      "metadata": {
        "colab": {
          "base_uri": "https://localhost:8080/"
        },
        "id": "uTyMO8MJgYeR",
        "outputId": "01ff9ca8-2e92-432d-b936-986d137068b0"
      },
      "execution_count": null,
      "outputs": [
        {
          "output_type": "stream",
          "name": "stdout",
          "text": [
            "Universitas Tidar\n"
          ]
        }
      ]
    },
    {
      "cell_type": "code",
      "source": [
        "import sys\n",
        "print(sys.version)"
      ],
      "metadata": {
        "colab": {
          "base_uri": "https://localhost:8080/"
        },
        "id": "0Zkyd840gsOB",
        "outputId": "b9ceae24-c5ce-4ec2-d316-0a4e1ffbf788"
      },
      "execution_count": null,
      "outputs": [
        {
          "output_type": "stream",
          "name": "stdout",
          "text": [
            "3.10.12 (main, Jul 29 2024, 16:56:48) [GCC 11.4.0]\n"
          ]
        }
      ]
    },
    {
      "cell_type": "code",
      "source": [
        "print(\"This will be printed\")\n",
        "frint(\"This will cause an error\")\n",
        "print(\"This will NOT be printed\")"
      ],
      "metadata": {
        "colab": {
          "base_uri": "https://localhost:8080/",
          "height": 193
        },
        "id": "MNk47YjWitLN",
        "outputId": "f89245f8-861a-4176-861d-1267cc187624"
      },
      "execution_count": null,
      "outputs": [
        {
          "output_type": "stream",
          "name": "stdout",
          "text": [
            "This will be printed\n"
          ]
        },
        {
          "output_type": "error",
          "ename": "NameError",
          "evalue": "name 'frint' is not defined",
          "traceback": [
            "\u001b[0;31m---------------------------------------------------------------------------\u001b[0m",
            "\u001b[0;31mNameError\u001b[0m                                 Traceback (most recent call last)",
            "\u001b[0;32m<ipython-input-4-aa3f0d14d353>\u001b[0m in \u001b[0;36m<cell line: 2>\u001b[0;34m()\u001b[0m\n\u001b[1;32m      1\u001b[0m \u001b[0mprint\u001b[0m\u001b[0;34m(\u001b[0m\u001b[0;34m\"This will be printed\"\u001b[0m\u001b[0;34m)\u001b[0m\u001b[0;34m\u001b[0m\u001b[0;34m\u001b[0m\u001b[0m\n\u001b[0;32m----> 2\u001b[0;31m \u001b[0mfrint\u001b[0m\u001b[0;34m(\u001b[0m\u001b[0;34m\"This will cause an error\"\u001b[0m\u001b[0;34m)\u001b[0m\u001b[0;34m\u001b[0m\u001b[0;34m\u001b[0m\u001b[0m\n\u001b[0m\u001b[1;32m      3\u001b[0m \u001b[0mprint\u001b[0m\u001b[0;34m(\u001b[0m\u001b[0;34m\"This will NOT be printed\"\u001b[0m\u001b[0;34m)\u001b[0m\u001b[0;34m\u001b[0m\u001b[0;34m\u001b[0m\u001b[0m\n",
            "\u001b[0;31mNameError\u001b[0m: name 'frint' is not defined"
          ]
        }
      ]
    },
    {
      "cell_type": "code",
      "source": [
        "print(\"Nama         : Kartika Salsabila\")\n",
        "print()\n",
        "print(\"NPM          : 2410506003\")\n",
        "print()\n",
        "print(\"Alamat       : Jl. Teuku Umar Blok G21\")\n",
        "print()\n",
        "print(\"Tinggi Badan : 168.2\")\n",
        "print()\n",
        "print(\"Berat Badan  : 72,5\")"
      ],
      "metadata": {
        "colab": {
          "base_uri": "https://localhost:8080/"
        },
        "id": "9e0plGXxjBci",
        "outputId": "446d1a21-adf8-43e9-bf53-3a8504c401de"
      },
      "execution_count": null,
      "outputs": [
        {
          "output_type": "stream",
          "name": "stdout",
          "text": [
            "Nama         : Kartika Salsabila\n",
            "\n",
            "NPM          : 2410506003\n",
            "\n",
            "Alamat       : Jl. Teuku Umar Blok G21\n",
            "\n",
            "Tinggi Badan : 168.2\n",
            "\n",
            "Berat Badan  : 72,5\n"
          ]
        }
      ]
    },
    {
      "cell_type": "code",
      "source": [
        "print('Hello Python')\n",
        "print('Hi')"
      ],
      "metadata": {
        "colab": {
          "base_uri": "https://localhost:8080/"
        },
        "id": "vQZQUWT0k_Cz",
        "outputId": "d6a32117-6a55-4b87-b73d-682eb97ff479"
      },
      "execution_count": null,
      "outputs": [
        {
          "output_type": "stream",
          "name": "stdout",
          "text": [
            "Hello Python\n",
            "Hi\n"
          ]
        }
      ]
    },
    {
      "cell_type": "code",
      "source": [
        "frint(\"Hello, Python\")"
      ],
      "metadata": {
        "colab": {
          "base_uri": "https://localhost:8080/",
          "height": 141
        },
        "id": "eHeJXGQSlP3q",
        "outputId": "4d815389-72c4-47f5-9fc3-93e86207eb13"
      },
      "execution_count": null,
      "outputs": [
        {
          "output_type": "error",
          "ename": "NameError",
          "evalue": "name 'frint' is not defined",
          "traceback": [
            "\u001b[0;31m---------------------------------------------------------------------------\u001b[0m",
            "\u001b[0;31mNameError\u001b[0m                                 Traceback (most recent call last)",
            "\u001b[0;32m<ipython-input-7-f0bbdab23063>\u001b[0m in \u001b[0;36m<cell line: 1>\u001b[0;34m()\u001b[0m\n\u001b[0;32m----> 1\u001b[0;31m \u001b[0mfrint\u001b[0m\u001b[0;34m(\u001b[0m\u001b[0;34m\"Hello, Python\"\u001b[0m\u001b[0;34m)\u001b[0m\u001b[0;34m\u001b[0m\u001b[0;34m\u001b[0m\u001b[0m\n\u001b[0m",
            "\u001b[0;31mNameError\u001b[0m: name 'frint' is not defined"
          ]
        }
      ]
    },
    {
      "cell_type": "code",
      "source": [
        "print(\"Hello, Python!)"
      ],
      "metadata": {
        "colab": {
          "base_uri": "https://localhost:8080/",
          "height": 106
        },
        "id": "yEZRqMEwlZM7",
        "outputId": "637a64a6-8936-4c34-e28e-40527b6f7635"
      },
      "execution_count": null,
      "outputs": [
        {
          "output_type": "error",
          "ename": "SyntaxError",
          "evalue": "unterminated string literal (detected at line 1) (<ipython-input-8-c10a1b330477>, line 1)",
          "traceback": [
            "\u001b[0;36m  File \u001b[0;32m\"<ipython-input-8-c10a1b330477>\"\u001b[0;36m, line \u001b[0;32m1\u001b[0m\n\u001b[0;31m    print(\"Hello, Python!)\u001b[0m\n\u001b[0m          ^\u001b[0m\n\u001b[0;31mSyntaxError\u001b[0m\u001b[0;31m:\u001b[0m unterminated string literal (detected at line 1)\n"
          ]
        }
      ]
    },
    {
      "cell_type": "code",
      "source": [
        "print(\"**UNIVERSITAS TIDAR**\")"
      ],
      "metadata": {
        "colab": {
          "base_uri": "https://localhost:8080/"
        },
        "id": "IGKBSz1KmG1B",
        "outputId": "2463e169-a3a2-4c4b-8cb1-de49f0a98957"
      },
      "execution_count": null,
      "outputs": [
        {
          "output_type": "stream",
          "name": "stdout",
          "text": [
            "**UNIVERSITAS TIDAR**\n"
          ]
        }
      ]
    },
    {
      "cell_type": "markdown",
      "source": [],
      "metadata": {
        "id": "WHkOgy3wmhNQ"
      }
    },
    {
      "cell_type": "markdown",
      "source": [
        "**UNIVERSITAS TIDAR**"
      ],
      "metadata": {
        "id": "b_QGzL__mop6"
      }
    },
    {
      "cell_type": "code",
      "source": [
        "print(\"\\033[1m UNIVERSITAS TIDAR \\033[0m\")"
      ],
      "metadata": {
        "colab": {
          "base_uri": "https://localhost:8080/"
        },
        "id": "F5ZhUKAimt7h",
        "outputId": "816937a7-13d5-4264-ba43-c139cef61c0b"
      },
      "execution_count": null,
      "outputs": [
        {
          "output_type": "stream",
          "name": "stdout",
          "text": [
            "\u001b[1m UNIVERSITAS TIDAR \u001b[0m\n"
          ]
        }
      ]
    },
    {
      "cell_type": "code",
      "source": [
        "print(\"\\033[1mUNIVERSITAS TIDAR\\033[0m\")\n",
        "print(      \"Universitas Tidar merupakan Perguruan Tinggi Pemerintah atau Perguruan Tinggi Negeri yang telah ditetapkan berdasarkan Peraturan Presiden Republik Indonesia Nomor 23 Tahun 2014 pada tanggal 1 April 2014\")\n",
        "print()\n",
        "print(\"\\033[1mJURUSAN TEKNIK ELEKTRO, MEKATRONIKA DAN INFORMASI\\033[0m\")\n",
        "print(      \"Jurusan Teknik Elektro terdiri atas tiga program studi, antar lain:\")\n",
        "print(\"   1. S1 Teknik Elektro (Barcelor of Electrical Engineering)\")\n",
        "print(\"   2. S1 Teknologi Informasi (Barchelor of Information Technology)\")\n",
        "print(\"   3. S1 Teknik Mekatronika (Barchelor of Mechatronich Engineering)\")"
      ],
      "metadata": {
        "colab": {
          "base_uri": "https://localhost:8080/"
        },
        "id": "mi2Hio-znDdC",
        "outputId": "61aae504-d38f-4629-eadb-6f9112ff01c9"
      },
      "execution_count": null,
      "outputs": [
        {
          "output_type": "stream",
          "name": "stdout",
          "text": [
            "\u001b[1mUNIVERSITAS TIDAR\u001b[0m\n",
            "Universitas Tidar merupakan Perguruan Tinggi Pemerintah atau Perguruan Tinggi Negeri yang telah ditetapkan berdasarkan Peraturan Presiden Republik Indonesia Nomor 23 Tahun 2014 pada tanggal 1 April 2014\n",
            "\n",
            "\u001b[1mJURUSAN TEKNIK ELEKTRO, MEKATRONIKA DAN INFORMASI\u001b[0m\n",
            "Jurusan Teknik Elektro terdiri atas tiga program studi, antar lain:\n",
            "   1. S1 Teknik Elektro (Barcelor of Electrical Engineering)\n",
            "   2. S1 Teknologi Informasi (Barchelor of Information Technology)\n",
            "   3. S1 Teknik Mekatronika (Barchelor of Mechatronich Engineering)\n"
          ]
        }
      ]
    }
  ]
}