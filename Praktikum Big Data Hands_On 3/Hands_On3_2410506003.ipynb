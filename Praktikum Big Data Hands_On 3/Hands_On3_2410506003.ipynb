{
  "nbformat": 4,
  "nbformat_minor": 0,
  "metadata": {
    "colab": {
      "provenance": []
    },
    "kernelspec": {
      "name": "python3",
      "display_name": "Python 3"
    },
    "language_info": {
      "name": "python"
    }
  },
  "cells": [
    {
      "cell_type": "code",
      "execution_count": 11,
      "metadata": {
        "id": "gqFZASpXx7Jp",
        "colab": {
          "base_uri": "https://localhost:8080/"
        },
        "outputId": "fed8b70f-9db6-471c-f330-64f1812e3b42"
      },
      "outputs": [
        {
          "output_type": "stream",
          "name": "stdout",
          "text": [
            "+------------+-----------+------+\n",
            "|EmployeeName|Departement|Salary|\n",
            "+------------+-----------+------+\n",
            "|       James|      Sales|  3000|\n",
            "|     Michael|      Sales|  4600|\n",
            "|      Robert|      Sales|  4100|\n",
            "|       Maria|    Finance|  3000|\n",
            "+------------+-----------+------+\n",
            "\n"
          ]
        }
      ],
      "source": [
        "# Contoh membuat DataFrame sederhana dan operasi dasar\n",
        "from pyspark.sql import SparkSession\n",
        "spark = SparkSession.builder.appName('HandsOnPertemuan3').getOrCreate()\n",
        "\n",
        "data = [('James', 'Sales', 3000),\n",
        "        ('Michael', 'Sales', 4600),\n",
        "        ('Robert', 'Sales', 4100),\n",
        "        ('Maria', 'Finance', 3000)]\n",
        "columns = ['EmployeeName', 'Departement', 'Salary']\n",
        "\n",
        "df = spark.createDataFrame(data, schema=columns)\n",
        "df.show()"
      ]
    },
    {
      "cell_type": "code",
      "source": [
        "# Contoh operasi transformasi DataFrame\n",
        "df.select('EmployeeName', 'Salary').show()\n",
        "df.filter(df['Salary'] > 3000).show()\n",
        "df.groupBy('Departement').avg('Salary').show()"
      ],
      "metadata": {
        "id": "7Ll4QofczCOv",
        "colab": {
          "base_uri": "https://localhost:8080/"
        },
        "outputId": "7edbc14c-dfb9-4ccc-d13a-8cce5262615a"
      },
      "execution_count": 16,
      "outputs": [
        {
          "output_type": "stream",
          "name": "stdout",
          "text": [
            "+------------+------+\n",
            "|EmployeeName|Salary|\n",
            "+------------+------+\n",
            "|       James|  3000|\n",
            "|     Michael|  4600|\n",
            "|      Robert|  4100|\n",
            "|       Maria|  3000|\n",
            "+------------+------+\n",
            "\n",
            "+------------+-----------+------+-----------+-----------------+\n",
            "|EmployeeName|Departement|Salary|SalaryBonus|TotalCompensation|\n",
            "+------------+-----------+------+-----------+-----------------+\n",
            "|     Michael|      Sales|  4600|      460.0|           5060.0|\n",
            "|      Robert|      Sales|  4100|      410.0|           4510.0|\n",
            "+------------+-----------+------+-----------+-----------------+\n",
            "\n",
            "+-----------+-----------+\n",
            "|Departement|avg(Salary)|\n",
            "+-----------+-----------+\n",
            "|      Sales|     3900.0|\n",
            "|    Finance|     3000.0|\n",
            "+-----------+-----------+\n",
            "\n"
          ]
        }
      ]
    },
    {
      "cell_type": "code",
      "source": [
        "# Contoh manipulasi tipe data kompleks\n",
        "from pyspark.sql import functions as F\n",
        "\n",
        "df = df.withColumn(\"SalaryBonus\", F.col(\"Salary\") * F.lit(0.1))\n",
        "df = df.withColumn(\"TotalCompensation\", F.col(\"Salary\") + F.col(\"SalaryBonus\"))\n",
        "\n",
        "df.show()\n"
      ],
      "metadata": {
        "colab": {
          "base_uri": "https://localhost:8080/"
        },
        "id": "RkbSel3Dzqu5",
        "outputId": "ecc06621-40ee-4722-edca-6b782980164c"
      },
      "execution_count": 13,
      "outputs": [
        {
          "output_type": "stream",
          "name": "stdout",
          "text": [
            "+------------+-----------+------+-----------+-----------------+\n",
            "|EmployeeName|Departement|Salary|SalaryBonus|TotalCompensation|\n",
            "+------------+-----------+------+-----------+-----------------+\n",
            "|       James|      Sales|  3000|      300.0|           3300.0|\n",
            "|     Michael|      Sales|  4600|      460.0|           5060.0|\n",
            "|      Robert|      Sales|  4100|      410.0|           4510.0|\n",
            "|       Maria|    Finance|  3000|      300.0|           3300.0|\n",
            "+------------+-----------+------+-----------+-----------------+\n",
            "\n"
          ]
        }
      ]
    },
    {
      "cell_type": "code",
      "source": [
        "from pyspark.sql.window import Window\n",
        "from pyspark.sql import functions as F\n",
        "\n",
        "windowSpec = Window.partitionBy('Departement').orderBy('Salary')\n",
        "df.withColumn('Rank', F.rank().over(windowSpec)).show()"
      ],
      "metadata": {
        "id": "d4FZEnNZ1rYJ",
        "colab": {
          "base_uri": "https://localhost:8080/"
        },
        "outputId": "dd3f10c2-3e7e-4d24-dda3-fd58ad794782"
      },
      "execution_count": 15,
      "outputs": [
        {
          "output_type": "stream",
          "name": "stdout",
          "text": [
            "+------------+-----------+------+-----------+-----------------+----+\n",
            "|EmployeeName|Departement|Salary|SalaryBonus|TotalCompensation|Rank|\n",
            "+------------+-----------+------+-----------+-----------------+----+\n",
            "|       Maria|    Finance|  3000|      300.0|           3300.0|   1|\n",
            "|       James|      Sales|  3000|      300.0|           3300.0|   1|\n",
            "|      Robert|      Sales|  4100|      410.0|           4510.0|   2|\n",
            "|     Michael|      Sales|  4600|      460.0|           5060.0|   3|\n",
            "+------------+-----------+------+-----------+-----------------+----+\n",
            "\n"
          ]
        }
      ]
    },
    {
      "cell_type": "code",
      "source": [],
      "metadata": {
        "id": "WevOrojgnW4R"
      },
      "execution_count": null,
      "outputs": []
    }
  ]
}