{
  "nbformat": 4,
  "nbformat_minor": 0,
  "metadata": {
    "colab": {
      "provenance": []
    },
    "kernelspec": {
      "name": "python3",
      "display_name": "Python 3"
    },
    "language_info": {
      "name": "python"
    }
  },
  "cells": [
    {
      "cell_type": "code",
      "execution_count": null,
      "metadata": {
        "colab": {
          "base_uri": "https://localhost:8080/"
        },
        "id": "cFnNpOWQzEF2",
        "outputId": "d91508af-62c1-40b1-b4e5-e132a9d53627"
      },
      "outputs": [
        {
          "output_type": "stream",
          "name": "stdout",
          "text": [
            "Nama     : Kartika Salsabila\n",
            "Program Studi  : S1 Teknologi Informasi\n",
            "Email    : k622161@gmail.com\n"
          ]
        }
      ],
      "source": [
        "# Definisikan variabel dengan informasi yang diperlukan\n",
        "\n",
        "nama = \"Kartika Salsabila\"\n",
        "program_studi = \"S1 Teknologi Informasi\"\n",
        "email = \"k622161@gmail.com\"\n",
        "\n",
        "# Fungsi untuk menampilkan informasi\n",
        "def tampilkan_informasi(nama, program_studi, email):\n",
        "    print(\"Nama     :\", nama)\n",
        "    print(\"Program Studi  :\", program_studi)\n",
        "    print(\"Email    :\", email)\n",
        "\n",
        "# Panggil fungsi untuk menampilkan informasi\n",
        "\n",
        "tampilkan_informasi(nama, program_studi, email)"
      ]
    },
    {
      "cell_type": "code",
      "source": [
        "# Minta input dari pengguna\n",
        "nama = input(\"Kartika Salsabila: \")\n",
        "npm = input(\"2410506003: \")\n",
        "program_studi = input(\"S1 Teknologi Informasi: \")\n",
        "alamat = input(\"Rindam 4 DIP: \")\n",
        "\n",
        "# Nama file yang akan disimpan\n",
        "nama_file = \"data_mahasiswa.txt\"\n",
        "\n",
        "# Simpan data ke dalam file teks\n",
        "with open(nama_file, \"w\") as file:\n",
        "    file.write(\"Nama: \" + nama + \"\\n\")\n",
        "    file.write(\"NPM: \" + npm + \"\\n\")\n",
        "    file.write(\"Program Studi: \" + program_studi + \"\\n\")\n",
        "    file.write(\"Alamat: \" + alamat + \"\\n\")\n",
        "\n",
        "print(f\"Data berhasil disimpan dalam {nama_file}\")"
      ],
      "metadata": {
        "colab": {
          "base_uri": "https://localhost:8080/"
        },
        "id": "NjvoilxA3RMM",
        "outputId": "0f437b27-fdfa-415e-c10e-b41ad3494994"
      },
      "execution_count": null,
      "outputs": [
        {
          "output_type": "stream",
          "name": "stdout",
          "text": [
            "Kartika Salsabila: \n",
            "2410506003: \n",
            "S1 Teknologi Informasi: \n",
            "Rindam 4 DIP: \n",
            "Data berhasil disimpan dalam data_mahasiswa.txt\n"
          ]
        }
      ]
    },
    {
      "cell_type": "code",
      "source": [
        "print(\"Selamat datang di Toko Maju Jaya\")\n",
        "print(\"Senin, 4 September 2023      13.05\")\n",
        "print(\"13.05\")\n",
        "\n",
        "print(\"DAFTAR BELANJA:\")\n",
        "\n",
        "# Daftar belanja dan harga\n",
        "item1 = \"Sabun\"\n",
        "item2 = \"Shampo\"\n",
        "item3 = \"Mie instant\"\n",
        "item4 = \"Detergen\"\n",
        "harga1 = 10000\n",
        "harga2 = 15000\n",
        "harga3 = 5000\n",
        "harga4 = 17500\n",
        "\n",
        "# Menghitung Total\n",
        "total = harga1 + harga2 + harga3 + harga4\n",
        "# Menampilkan daftar belanja\n",
        "print(f\"{item1:<10} = Rp {harga1}\")\n",
        "print(f\"{item2:<10} = Rp {harga2}\")\n",
        "print(f\"{item3:<10} = Rp {harga3}\")\n",
        "print(f\"{item4:<10} = Rp {harga4}\")\n",
        "\n",
        "print(\" \")\n",
        "print(f\"Total = Rp {total}\")\n",
        "\n",
        "with open('Kuitansi.txt', 'w') as file:\n",
        "    file.write(\"Selamat Datang di Toko Maju Jaya\\n\")\n",
        "    file.write(\" \\n\")\n",
        "    file.write(\"Kuitansi - 4 September 2023\\n\")\n",
        "    file.write(\" \\n\")\n",
        "    file.write(f\"{item1} = Rp {harga1}\\n\")\n",
        "    file.write(f\"{item2} = Rp {harga2}\\n\")\n",
        "    file.write(f\"{item3} = Rp {harga3}\\n\")\n",
        "    file.write(f\"{item4} = Rp {harga4}\\n\")\n",
        "    file.write(f\"Total = Rp {total}\\n\")\n",
        "    file.write(\" \\n\")\n",
        "    file.write(\"Terima kasih telah berbelanja di Toko Maju Jaya!\")\n",
        "\n",
        "print(\"Kuitansi berhasil disimpan dalam file 'Kuitansi.txt'\")"
      ],
      "metadata": {
        "id": "cBLSfWbs7bFO",
        "colab": {
          "base_uri": "https://localhost:8080/"
        },
        "outputId": "99a9fe20-d184-4c2c-b506-178f36284159"
      },
      "execution_count": null,
      "outputs": [
        {
          "output_type": "stream",
          "name": "stdout",
          "text": [
            "Selamat datang di Toko Maju Jaya\n",
            "Senin, 4 September 2023      13.05\n",
            "13.05\n",
            "DAFTAR BELANJA:\n",
            "Sabun      = Rp 10000\n",
            "Shampo     = Rp 15000\n",
            "Mie instant = Rp 5000\n",
            "Detergen   = Rp 17500\n",
            " \n",
            "Total = Rp 47500\n",
            "Kuitansi berhasil disimpan dalam file 'Kuitansi.txt'\n"
          ]
        }
      ]
    },
    {
      "cell_type": "code",
      "source": [],
      "metadata": {
        "id": "sNjOBI-2T9wt"
      },
      "execution_count": null,
      "outputs": []
    },
    {
      "cell_type": "code",
      "source": [
        "File1 = open(r\"D:\\kartika\\kartika\\Kartika.txt\")\n",
        "FileContent = File1.read()\n",
        "print(FileContent)"
      ],
      "metadata": {
        "colab": {
          "base_uri": "https://localhost:8080/",
          "height": 176
        },
        "id": "n3dSP-vtFOFW",
        "outputId": "e7f1db0f-e900-4251-a2de-6c7bdcdc3f6e"
      },
      "execution_count": null,
      "outputs": [
        {
          "output_type": "error",
          "ename": "FileNotFoundError",
          "evalue": "[Errno 2] No such file or directory: 'D:\\\\kartika\\\\kartika\\\\Kartika.txt'",
          "traceback": [
            "\u001b[0;31m---------------------------------------------------------------------------\u001b[0m",
            "\u001b[0;31mFileNotFoundError\u001b[0m                         Traceback (most recent call last)",
            "\u001b[0;32m<ipython-input-9-b79d6dcc1c33>\u001b[0m in \u001b[0;36m<cell line: 1>\u001b[0;34m()\u001b[0m\n\u001b[0;32m----> 1\u001b[0;31m \u001b[0mFile1\u001b[0m \u001b[0;34m=\u001b[0m \u001b[0mopen\u001b[0m\u001b[0;34m(\u001b[0m\u001b[0;34mr\"D:\\kartika\\kartika\\Kartika.txt\"\u001b[0m\u001b[0;34m)\u001b[0m\u001b[0;34m\u001b[0m\u001b[0;34m\u001b[0m\u001b[0m\n\u001b[0m\u001b[1;32m      2\u001b[0m \u001b[0mFileContent\u001b[0m \u001b[0;34m=\u001b[0m \u001b[0mFile1\u001b[0m\u001b[0;34m.\u001b[0m\u001b[0mread\u001b[0m\u001b[0;34m(\u001b[0m\u001b[0;34m)\u001b[0m\u001b[0;34m\u001b[0m\u001b[0;34m\u001b[0m\u001b[0m\n\u001b[1;32m      3\u001b[0m \u001b[0mprint\u001b[0m\u001b[0;34m(\u001b[0m\u001b[0mFileContent\u001b[0m\u001b[0;34m)\u001b[0m\u001b[0;34m\u001b[0m\u001b[0;34m\u001b[0m\u001b[0m\n",
            "\u001b[0;31mFileNotFoundError\u001b[0m: [Errno 2] No such file or directory: 'D:\\\\kartika\\\\kartika\\\\Kartika.txt'"
          ]
        }
      ]
    },
    {
      "source": [
        "# Use forward slashes or double backslashes for the file path.\n",
        "# Make sure the file 'Kartika.txt' exists in the specified directory.\n",
        "file_path = \"D:/kartika/kartika/Kartika.txt\"  # or \"D:\\\\kartika\\\\kartika\\\\Kartika.txt\"\n",
        "# Check if the file exists\n",
        "import os\n",
        "if os.path.exists(file_path):\n",
        "    File1 = open(file_path)\n",
        "    FileContent = File1.read()\n",
        "    print(FileContent)\n",
        "else:\n",
        "    print(f\"File not found: {file_path}\")"
      ],
      "cell_type": "code",
      "metadata": {
        "colab": {
          "base_uri": "https://localhost:8080/"
        },
        "id": "JKYwMaCOUhTI",
        "outputId": "835b70ff-332c-44f5-ef2e-aa33db005998"
      },
      "execution_count": null,
      "outputs": [
        {
          "output_type": "stream",
          "name": "stdout",
          "text": [
            "File not found: D:/kartika/kartika/Kartika.txt\n"
          ]
        }
      ]
    },
    {
      "cell_type": "markdown",
      "source": [],
      "metadata": {
        "id": "X342xL4wGncG"
      }
    }
  ]
}